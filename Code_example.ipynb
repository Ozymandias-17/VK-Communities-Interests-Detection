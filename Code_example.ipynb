{
  "cells": [
    {
      "cell_type": "markdown",
      "id": "a619ee63",
      "metadata": {
        "id": "a619ee63"
      },
      "source": [
        "### Download libraries"
      ]
    },
    {
      "cell_type": "code",
      "execution_count": null,
      "id": "ab475046",
      "metadata": {},
      "outputs": [],
      "source": [
        "pip install -r requirements.txt"
      ]
    },
    {
      "cell_type": "code",
      "execution_count": 1,
      "id": "ba0e3daa",
      "metadata": {
        "collapsed": true,
        "id": "ba0e3daa"
      },
      "outputs": [],
      "source": [
        "import requests\n",
        "\n",
        "import numpy as np\n",
        "import pandas as pd\n",
        "\n",
        "from tqdm.notebook import tqdm\n",
        "import time\n",
        "import random\n",
        "from collections import Counter\n",
        "\n",
        "from pymorphy3 import MorphAnalyzer\n",
        "import nltk\n",
        "import spacy\n",
        "#nltk.download('punkt')\n",
        "#nltk.download('stopwords')\n",
        "\n",
        "from sklearn.feature_extraction.text import TfidfVectorizer\n",
        "from sklearn.metrics.pairwise import cosine_similarity\n",
        "from sklearn.model_selection import cross_val_score, train_test_split\n",
        "from operator import itemgetter\n",
        "from sklearn.decomposition import LatentDirichletAllocation\n",
        "from sklearn.metrics import classification_report\n",
        "from sklearn.linear_model import LogisticRegression\n",
        "\n",
        "import plotly.graph_objects as go\n",
        "import plotly.express as px\n",
        "import matplotlib.pyplot as plt\n",
        "from wordcloud import WordCloud"
      ]
    },
    {
      "cell_type": "markdown",
      "id": "2a543ef6",
      "metadata": {
        "id": "2a543ef6"
      },
      "source": [
        "### Set VK API methods and access_token"
      ]
    },
    {
      "cell_type": "code",
      "execution_count": null,
      "id": "c725eb4f",
      "metadata": {
        "id": "c725eb4f"
      },
      "outputs": [],
      "source": [
        "url = \"https://api.vk.com/method/groups.getMembers\"\n",
        "url2 = \"https://api.vk.com/method/users.get\"\n",
        "url3 = \"https://api.vk.com/method/groups.get\"\n",
        "\n",
        "access_token = \"YOUR TOKEN\"\n",
        "p = {\"access_token\":access_token, \"v\":\"5.131\"}"
      ]
    },
    {
      "cell_type": "markdown",
      "id": "c4798354",
      "metadata": {
        "id": "c4798354"
      },
      "source": [
        "### Extract members from the group\n",
        "I choose a group dedicated to the work of Hayao Miyazaki, as I want to find out what his fans are interested in. Let's extract 2000 members."
      ]
    },
    {
      "cell_type": "code",
      "execution_count": 3,
      "id": "f3332c75",
      "metadata": {
        "id": "f3332c75"
      },
      "outputs": [],
      "source": [
        "def get_members(ID, how_many_members):\n",
        "    members_list = []\n",
        "    p[\"group_id\"] = ID\n",
        "    p[\"count\"] = 100\n",
        "\n",
        "    for offset in tqdm(range(0, how_many_members, 100)):\n",
        "        p[\"offset\"] = offset\n",
        "        global inf\n",
        "        inf = requests.get(url, params = p).json()\n",
        "        time.sleep(0.24)\n",
        "        for member in inf[\"response\"][\"items\"]:\n",
        "            members_list.append(member)\n",
        "\n",
        "    return members_list"
      ]
    },
    {
      "cell_type": "code",
      "execution_count": null,
      "id": "f021df3c",
      "metadata": {
        "colab": {
          "base_uri": "https://localhost:8080/",
          "height": 67,
          "referenced_widgets": [
            "747ecbb297eb44c4b9fd204165dc90e0",
            "08fd005c4cf847519a2f448d7cbcae01",
            "00a931725c2a40af94854f3b2d67d608",
            "5276dc92f06b46a6889798498c3774cd",
            "6fe56f99490d4f8ba3191efce2d57b07",
            "bd0c770a662a441ba2ff1a0a8bd44b3c",
            "61064c8c75734fb8a1ed1e5bccc0a223",
            "4b35e3513d14454897d17b95b504dac6",
            "dd3f9a63f7804ccdbe473f261b49366b",
            "36f4729cffb94b48bd5c224f210ebd01",
            "ee6f989f495444529fff499f98159d72"
          ]
        },
        "id": "f021df3c",
        "outputId": "2405cf99-0800-4734-8dd9-a57345ed3a93"
      },
      "outputs": [],
      "source": [
        "group_id = \"miyazaki_club\"\n",
        "\n",
        "members_list = get_members(group_id, 2000)\n",
        "len(members_list)"
      ]
    },
    {
      "cell_type": "markdown",
      "id": "e06472ce",
      "metadata": {
        "id": "e06472ce"
      },
      "source": [
        "### Extract groups of each member"
      ]
    },
    {
      "cell_type": "code",
      "execution_count": 23,
      "id": "70fed7fa",
      "metadata": {
        "id": "70fed7fa"
      },
      "outputs": [],
      "source": [
        "def get_users_groups(members, how_many_groups):\n",
        "\n",
        "    session = requests.Session()\n",
        "\n",
        "    p = {\"access_token\":access_token, \"fields\":\"description\", \"extended\":1, \"count\":how_many_groups}\n",
        "    id_of_group = []\n",
        "    name_of_group = []\n",
        "    description_of_group = []\n",
        "    versions = [\"5.199\", \"5.195\", \"5.194\", \"5.154\", \"5.141\", \"5.139\"]\n",
        "\n",
        "    for user_groups in tqdm(members):\n",
        "        p[\"user_id\"] = user_groups\n",
        "        p[\"v\"] = random.choice(versions)\n",
        "        inf = session.get(url3, params = p).json()\n",
        "        #time.sleep(0.05)\n",
        "\n",
        "        if \"response\" in inf:\n",
        "            for num_group in range(0, inf[\"response\"][\"count\"], 1):\n",
        "                try:\n",
        "                    id_of_group.append(inf[\"response\"][\"items\"][num_group][\"id\"])\n",
        "                except:\n",
        "                    id_of_group.append(\"-\")\n",
        "                try:\n",
        "                    name_of_group.append(inf[\"response\"][\"items\"][num_group][\"name\"])\n",
        "                except:\n",
        "                    name_of_group.append(\"-\")\n",
        "                try:\n",
        "                    description_of_group.append(inf[\"response\"][\"items\"][num_group][\"description\"])\n",
        "                except:\n",
        "                    description_of_group.append(\"-\")\n",
        "\n",
        "\n",
        "    df_of_groups = pd.DataFrame(list(zip(id_of_group, name_of_group, description_of_group)),\n",
        "                                       columns = [\"ID\", \"Name of Group\", \"Description of Group\"])\n",
        "\n",
        "    df_of_groups = df_of_groups.loc[df_of_groups[\"ID\"] != \"-\"].reset_index(drop = True)\n",
        "\n",
        "    return df_of_groups"
      ]
    },
    {
      "cell_type": "code",
      "execution_count": null,
      "id": "76d41ff9",
      "metadata": {
        "colab": {
          "base_uri": "https://localhost:8080/",
          "height": 455,
          "referenced_widgets": [
            "13ed4eb99c5f4a72a5878ff43302fe47",
            "4c37bb37cc754f6592c64aac5178c5a3",
            "d85374b0430d411a9f75b0d639b6241b",
            "bd119e8eeb4742a6a7060cce73693899",
            "e3aa3d4f49f24964b7568e34bc667255",
            "63d4e6baded04edd9576f5206997ca74",
            "fd874483e11b42adb5c9229c6447da92",
            "9b20b9e8a4fb437187ff2edb5deda0fe",
            "6b9fb2e50aef4391919ae48b8ca29f36",
            "b5b0711f60dc43debc4b4dcb5986bf65",
            "f8ec895349f9424f820d08c09531ed91"
          ]
        },
        "id": "76d41ff9",
        "outputId": "66ef3e14-19b1-41f3-f45b-dc5c86e8ab22"
      },
      "outputs": [],
      "source": [
        "df_of_groups = get_users_groups(members_list, 20)\n",
        "df_of_groups"
      ]
    },
    {
      "cell_type": "markdown",
      "id": "acc28188",
      "metadata": {
        "id": "acc28188"
      },
      "source": [
        "### Text Preprocessing"
      ]
    },
    {
      "cell_type": "code",
      "execution_count": 25,
      "id": "7ff79ea4",
      "metadata": {
        "id": "7ff79ea4"
      },
      "outputs": [],
      "source": [
        "group_description = df_of_groups[\"Description of Group\"]\n",
        "morph = MorphAnalyzer()\n",
        "pos_list = [\"NOUN\", \"ADJF\", \"COMP\", \"ADJS\", \"VERB\", \"INFN\", \"PRTF\", \"PRTS\", \"ADVB\"] # list with parts of speech\n",
        "\n",
        "stop_words_spacy = list(spacy.load('ru_core_news_sm').Defaults.stop_words)\n",
        "stop_words_nltk = nltk.corpus.stopwords.words('russian')\n",
        "russian_stop_words = set(stop_words_spacy + stop_words_nltk)\n",
        "russian_stop_words.update({'группа', 'сообщество', 'паблик', 'то', 'что'})\n",
        "\n",
        "def preprocess_text(group_description: list[str], exclude_stop_words: bool=True):\n",
        "    tokenized_text = []\n",
        "    lemmatized_text = []\n",
        "\n",
        "    for x in group_description:\n",
        "        tokenized_text.append(nltk.word_tokenize(x))\n",
        "\n",
        "    if exclude_stop_words:\n",
        "\n",
        "        for text in tqdm(tokenized_text):\n",
        "            text_tokens = []\n",
        "            for token in text:\n",
        "                token_morph = morph.parse(token)[0] # [0] - most likely description of the word\n",
        "                if token_morph.tag.POS in pos_list and token_morph.normal_form not in russian_stop_words and token not in russian_stop_words:\n",
        "                    text_tokens.append(token_morph.normal_form)\n",
        "            lemmatized_text.append(text_tokens)\n",
        "\n",
        "    else:\n",
        "\n",
        "        for text in tqdm(tokenized_text):\n",
        "            text_tokens = []\n",
        "            for token in text:\n",
        "                token_morph = morph.parse(token)[0]\n",
        "                if token_morph.tag.POS in pos_list:\n",
        "                    text_tokens.append(token_morph.normal_form)\n",
        "            lemmatized_text.append(text_tokens)\n",
        "\n",
        "    return lemmatized_text\n",
        "\n",
        "\n",
        "def bag_of_words(text):\n",
        "    all_tokens = []\n",
        "\n",
        "    for lemm_list in tqdm(text):\n",
        "        for word in lemm_list:\n",
        "            all_tokens.append(word)\n",
        "\n",
        "    return pd.DataFrame(dict(Counter(all_tokens)).items(), columns=[\"Token\", \"Frequency\"])\\\n",
        "                        .sort_values(by=\"Frequency\", ascending=False).reset_index(drop=True)\n",
        "\n",
        "\n",
        "def joined_bag(text):\n",
        "    text_for_vektors = []\n",
        "\n",
        "    for t in tqdm(text):\n",
        "        joined_lemmas = []\n",
        "        if len(t) > 1:\n",
        "            joined_lemmas.append(\" \".join(t))\n",
        "        text_for_vektors.append(\" \".join(joined_lemmas))\n",
        "\n",
        "    return text_for_vektors"
      ]
    },
    {
      "cell_type": "code",
      "execution_count": null,
      "id": "40058d10",
      "metadata": {
        "colab": {
          "base_uri": "https://localhost:8080/",
          "height": 113,
          "referenced_widgets": [
            "a7f9e154beaf4f8ba6963184ecccb505",
            "d001b95496384b6abe9f026657e35f35",
            "2433e78de7dd476995bfbea7d0e4a452",
            "fe94f00b55e94bbf98a540c7bb9891b7",
            "363134113f694dc8aaefa7751ac2e407",
            "c7c481ef3bd445b8842463660f43efa6",
            "cc57658ad7dd4505a0e1fb039f5e21e7",
            "92900db1b08445539f8a6ccff3961cbe",
            "cf76a0ae906f41c0b1e5362206de0bad",
            "7e8bfd29d1b9451e91e0ea9052922c5c",
            "93154939f693489c90db76128fa32038",
            "57eb1f3d4f0044dd8aceb9379a87395b",
            "e71fdc7d38bb4f9688fb0a38a4697df6",
            "4ec070f383a643978863db37f63ab338",
            "8fcbd757cfb146e6b8498eb6b508de19",
            "e2a9696e795e439fbe3ddcedaa656ee1",
            "0abb98d48e4a4b73bf3188d8820359b0",
            "fb10dbd1ba0245e4a46e1246e3cc5e50",
            "43611eed2467482683d70b60bf409461",
            "d7ed2f03495a4e87841f372de44fc46d",
            "9fcc71e29dbb4213b06ddcca60010c89",
            "56e49f929a564807b95dbfd779b53ae2",
            "63781b3cf1634e238ad0fb216f5735e0",
            "6a9e7c08d57148c0874b3105b981bdd8",
            "01cf7def4edc44e9a15c257cec413661",
            "824edae248df41bda79f0c94b26b6b94",
            "4b203c218fd9496b9598c6840b0063f4",
            "31f8c0da636a4bd0b34c2a4a4ffbdce7",
            "a36274aca0a142ac9e2c729c21110eca",
            "30e63c1f3b9f492ab376ace2beba9c71",
            "8891e561a186436e88fb10c4e2a4c855",
            "1f34dddf24184b4e82236f3b84b78c59",
            "911b90a5486c4e8faac14f52f941daf0"
          ]
        },
        "id": "40058d10",
        "outputId": "bf8556fe-ad64-4904-c2b4-f89ec0cf6644"
      },
      "outputs": [],
      "source": [
        "lemmatized_text = preprocess_text(group_description)\n",
        "bag = bag_of_words(lemmatized_text)\n",
        "j_bag = joined_bag(lemmatized_text)"
      ]
    },
    {
      "cell_type": "code",
      "execution_count": 27,
      "id": "SI89STHq7Uc0",
      "metadata": {
        "colab": {
          "base_uri": "https://localhost:8080/",
          "height": 990
        },
        "id": "SI89STHq7Uc0",
        "outputId": "cd2d58cc-f326-4bdb-e7d4-bfcfaf36aec2"
      },
      "outputs": [
        {
          "data": {
            "text/html": [
              "<div>\n",
              "<style scoped>\n",
              "    .dataframe tbody tr th:only-of-type {\n",
              "        vertical-align: middle;\n",
              "    }\n",
              "\n",
              "    .dataframe tbody tr th {\n",
              "        vertical-align: top;\n",
              "    }\n",
              "\n",
              "    .dataframe thead th {\n",
              "        text-align: right;\n",
              "    }\n",
              "</style>\n",
              "<table border=\"1\" class=\"dataframe\">\n",
              "  <thead>\n",
              "    <tr style=\"text-align: right;\">\n",
              "      <th></th>\n",
              "      <th>Token</th>\n",
              "      <th>Frequency</th>\n",
              "    </tr>\n",
              "  </thead>\n",
              "  <tbody>\n",
              "    <tr>\n",
              "      <th>0</th>\n",
              "      <td>новость</td>\n",
              "      <td>2633</td>\n",
              "    </tr>\n",
              "    <tr>\n",
              "      <th>1</th>\n",
              "      <td>мир</td>\n",
              "      <td>2450</td>\n",
              "    </tr>\n",
              "    <tr>\n",
              "      <th>2</th>\n",
              "      <td>год</td>\n",
              "      <td>2268</td>\n",
              "    </tr>\n",
              "    <tr>\n",
              "      <th>3</th>\n",
              "      <td>человек</td>\n",
              "      <td>2249</td>\n",
              "    </tr>\n",
              "    <tr>\n",
              "      <th>4</th>\n",
              "      <td>жизнь</td>\n",
              "      <td>1891</td>\n",
              "    </tr>\n",
              "    <tr>\n",
              "      <th>5</th>\n",
              "      <td>интересный</td>\n",
              "      <td>1837</td>\n",
              "    </tr>\n",
              "    <tr>\n",
              "      <th>6</th>\n",
              "      <td>хороший</td>\n",
              "      <td>1799</td>\n",
              "    </tr>\n",
              "    <tr>\n",
              "      <th>7</th>\n",
              "      <td>новый</td>\n",
              "      <td>1775</td>\n",
              "    </tr>\n",
              "    <tr>\n",
              "      <th>8</th>\n",
              "      <td>работа</td>\n",
              "      <td>1769</td>\n",
              "    </tr>\n",
              "    <tr>\n",
              "      <th>9</th>\n",
              "      <td>найти</td>\n",
              "      <td>1703</td>\n",
              "    </tr>\n",
              "    <tr>\n",
              "      <th>10</th>\n",
              "      <td>вопрос</td>\n",
              "      <td>1618</td>\n",
              "    </tr>\n",
              "    <tr>\n",
              "      <th>11</th>\n",
              "      <td>день</td>\n",
              "      <td>1450</td>\n",
              "    </tr>\n",
              "    <tr>\n",
              "      <th>12</th>\n",
              "      <td>фильм</td>\n",
              "      <td>1421</td>\n",
              "    </tr>\n",
              "    <tr>\n",
              "      <th>13</th>\n",
              "      <td>пост</td>\n",
              "      <td>1374</td>\n",
              "    </tr>\n",
              "    <tr>\n",
              "      <th>14</th>\n",
              "      <td>реклама</td>\n",
              "      <td>1361</td>\n",
              "    </tr>\n",
              "    <tr>\n",
              "      <th>15</th>\n",
              "      <td>история</td>\n",
              "      <td>1349</td>\n",
              "    </tr>\n",
              "    <tr>\n",
              "      <th>16</th>\n",
              "      <td>страница</td>\n",
              "      <td>1342</td>\n",
              "    </tr>\n",
              "    <tr>\n",
              "      <th>17</th>\n",
              "      <td>россия</td>\n",
              "      <td>1255</td>\n",
              "    </tr>\n",
              "    <tr>\n",
              "      <th>18</th>\n",
              "      <td>регистрация</td>\n",
              "      <td>1236</td>\n",
              "    </tr>\n",
              "    <tr>\n",
              "      <th>19</th>\n",
              "      <td>писать</td>\n",
              "      <td>1223</td>\n",
              "    </tr>\n",
              "    <tr>\n",
              "      <th>20</th>\n",
              "      <td>друг</td>\n",
              "      <td>1166</td>\n",
              "    </tr>\n",
              "    <tr>\n",
              "      <th>21</th>\n",
              "      <td>информация</td>\n",
              "      <td>1142</td>\n",
              "    </tr>\n",
              "    <tr>\n",
              "      <th>22</th>\n",
              "      <td>место</td>\n",
              "      <td>1073</td>\n",
              "    </tr>\n",
              "    <tr>\n",
              "      <th>23</th>\n",
              "      <td>юмор</td>\n",
              "      <td>1068</td>\n",
              "    </tr>\n",
              "    <tr>\n",
              "      <th>24</th>\n",
              "      <td>город</td>\n",
              "      <td>1054</td>\n",
              "    </tr>\n",
              "    <tr>\n",
              "      <th>25</th>\n",
              "      <td>создать</td>\n",
              "      <td>1050</td>\n",
              "    </tr>\n",
              "    <tr>\n",
              "      <th>26</th>\n",
              "      <td>сообщение</td>\n",
              "      <td>1047</td>\n",
              "    </tr>\n",
              "    <tr>\n",
              "      <th>27</th>\n",
              "      <td>добро</td>\n",
              "      <td>1045</td>\n",
              "    </tr>\n",
              "    <tr>\n",
              "      <th>28</th>\n",
              "      <td>правило</td>\n",
              "      <td>1039</td>\n",
              "    </tr>\n",
              "    <tr>\n",
              "      <th>29</th>\n",
              "      <td>ссылка</td>\n",
              "      <td>1019</td>\n",
              "    </tr>\n",
              "  </tbody>\n",
              "</table>\n",
              "</div>"
            ],
            "text/plain": [
              "          Token  Frequency\n",
              "0       новость       2633\n",
              "1           мир       2450\n",
              "2           год       2268\n",
              "3       человек       2249\n",
              "4         жизнь       1891\n",
              "5    интересный       1837\n",
              "6       хороший       1799\n",
              "7         новый       1775\n",
              "8        работа       1769\n",
              "9         найти       1703\n",
              "10       вопрос       1618\n",
              "11         день       1450\n",
              "12        фильм       1421\n",
              "13         пост       1374\n",
              "14      реклама       1361\n",
              "15      история       1349\n",
              "16     страница       1342\n",
              "17       россия       1255\n",
              "18  регистрация       1236\n",
              "19       писать       1223\n",
              "20         друг       1166\n",
              "21   информация       1142\n",
              "22        место       1073\n",
              "23         юмор       1068\n",
              "24        город       1054\n",
              "25      создать       1050\n",
              "26    сообщение       1047\n",
              "27        добро       1045\n",
              "28      правило       1039\n",
              "29       ссылка       1019"
            ]
          },
          "execution_count": 27,
          "metadata": {},
          "output_type": "execute_result"
        }
      ],
      "source": [
        "bag.head(30)"
      ]
    },
    {
      "cell_type": "code",
      "execution_count": 28,
      "id": "Rq9GGWvc6nnW",
      "metadata": {
        "colab": {
          "base_uri": "https://localhost:8080/",
          "height": 367
        },
        "id": "Rq9GGWvc6nnW",
        "outputId": "cd117eb9-5331-406b-d85c-58821241d800"
      },
      "outputs": [
        {
          "data": {
            "image/png": "[encoded data removed]",
            "text/plain": [
              "<Figure size 640x480 with 1 Axes>"
            ]
          },
          "metadata": {},
          "output_type": "display_data"
        }
      ],
      "source": [
        "word_cloud = WordCloud(collocations = False, background_color = 'white',\n",
        "                       width = 2160, height = 1440).generate(str(j_bag))\n",
        "\n",
        "plt.imshow(word_cloud, interpolation='bilinear')\n",
        "plt.axis(\"off\")\n",
        "plt.show()"
      ]
    },
    {
      "cell_type": "markdown",
      "id": "lExiQoCNUnGc",
      "metadata": {
        "id": "lExiQoCNUnGc"
      },
      "source": [
        "### Clustering with LDA"
      ]
    },
    {
      "cell_type": "code",
      "execution_count": 41,
      "id": "5f394099",
      "metadata": {
        "colab": {
          "base_uri": "https://localhost:8080/",
          "height": 49,
          "referenced_widgets": [
            "c0c1fe28f8a14e9cae2ceede71b4f490",
            "c3497ccbfa124b51830eb41aff22d67c",
            "2d379834f5a848c4a6fdf27a5e3f7b62",
            "e10189c65b5c4b088da44137118dd475",
            "899628c6358c45e090430693322ee2e5",
            "1b789a68d2214ad0ab988a31d93a3ced",
            "7dba4977f25d423591aed6c17308ecd4",
            "cdb474fd5c0e447b9bfeb8a535cf6293",
            "73f90f285df04a04b9136617d49d680d",
            "cd18cf7545704d55bb61beb06aa5f4a8",
            "4712807ba97f4629bd939dbd0875058f"
          ]
        },
        "collapsed": true,
        "id": "5f394099",
        "outputId": "71a36cbe-e796-4a21-96c5-9aa59d4e986a"
      },
      "outputs": [],
      "source": [
        "# Clustering tokens\n",
        "tfidf = TfidfVectorizer(max_features=1000)\n",
        "x = tfidf.fit_transform(j_bag)\n",
        "cluster_num = 16\n",
        "lda = LatentDirichletAllocation(n_components=cluster_num,\n",
        "                                learning_method=\"batch\",\n",
        "                                max_iter=300,\n",
        "                                random_state=0,\n",
        "                                n_jobs=-1)\n",
        "\n",
        "document_topics = lda.fit_transform(x)\n",
        "\n",
        "sorting = np.argsort(lda.components_, axis=1)[:, ::-1]\n",
        "feature_names = np.array(list(dict(sorted(tfidf.vocabulary_.items(), key=itemgetter(1))).keys()))\n",
        "clusters_tokens = []\n",
        "for num in range(0, cluster_num):\n",
        "    tokens_list = list(feature_names[list(sorting[num])])\n",
        "    clusters_tokens.append(tokens_list)\n",
        "\n",
        "df_clust = pd.DataFrame(clusters_tokens).T\n",
        "#pd.DataFrame(document_topics)"
      ]
    },
    {
      "cell_type": "code",
      "execution_count": 42,
      "id": "0c82596b",
      "metadata": {
        "colab": {
          "base_uri": "https://localhost:8080/",
          "height": 423
        },
        "id": "0c82596b",
        "outputId": "19e6cbfc-13b7-445c-f192-28a1a96c5a7b"
      },
      "outputs": [
        {
          "data": {
            "text/html": [
              "<div>\n",
              "<style scoped>\n",
              "    .dataframe tbody tr th:only-of-type {\n",
              "        vertical-align: middle;\n",
              "    }\n",
              "\n",
              "    .dataframe tbody tr th {\n",
              "        vertical-align: top;\n",
              "    }\n",
              "\n",
              "    .dataframe thead th {\n",
              "        text-align: right;\n",
              "    }\n",
              "</style>\n",
              "<table border=\"1\" class=\"dataframe\">\n",
              "  <thead>\n",
              "    <tr style=\"text-align: right;\">\n",
              "      <th></th>\n",
              "      <th>0</th>\n",
              "      <th>1</th>\n",
              "      <th>2</th>\n",
              "      <th>3</th>\n",
              "      <th>4</th>\n",
              "      <th>5</th>\n",
              "      <th>6</th>\n",
              "      <th>7</th>\n",
              "      <th>8</th>\n",
              "      <th>9</th>\n",
              "      <th>10</th>\n",
              "      <th>11</th>\n",
              "      <th>12</th>\n",
              "      <th>13</th>\n",
              "      <th>14</th>\n",
              "      <th>15</th>\n",
              "    </tr>\n",
              "  </thead>\n",
              "  <tbody>\n",
              "    <tr>\n",
              "      <th>0</th>\n",
              "      <td>история</td>\n",
              "      <td>номер</td>\n",
              "      <td>музыка</td>\n",
              "      <td>новость</td>\n",
              "      <td>фильм</td>\n",
              "      <td>перечень</td>\n",
              "      <td>животное</td>\n",
              "      <td>искусство</td>\n",
              "      <td>рецепт</td>\n",
              "      <td>заказ</td>\n",
              "      <td>идея</td>\n",
              "      <td>замок</td>\n",
              "      <td>юмор</td>\n",
              "      <td>реклама</td>\n",
              "      <td>россия</td>\n",
              "      <td>год</td>\n",
              "    </tr>\n",
              "    <tr>\n",
              "      <th>1</th>\n",
              "      <td>душа</td>\n",
              "      <td>регистрация</td>\n",
              "      <td>человек</td>\n",
              "      <td>пост</td>\n",
              "      <td>кино</td>\n",
              "      <td>страница</td>\n",
              "      <td>собака</td>\n",
              "      <td>жизнь</td>\n",
              "      <td>вкусный</td>\n",
              "      <td>магазин</td>\n",
              "      <td>дизайн</td>\n",
              "      <td>хаяо</td>\n",
              "      <td>хороший</td>\n",
              "      <td>книга</td>\n",
              "      <td>петербург</td>\n",
              "      <td>ребёнок</td>\n",
              "    </tr>\n",
              "    <tr>\n",
              "      <th>2</th>\n",
              "      <td>место</td>\n",
              "      <td>мем</td>\n",
              "      <td>мир</td>\n",
              "      <td>предложить</td>\n",
              "      <td>сериал</td>\n",
              "      <td>канал</td>\n",
              "      <td>котик</td>\n",
              "      <td>вдохновение</td>\n",
              "      <td>комикс</td>\n",
              "      <td>доставка</td>\n",
              "      <td>интерьер</td>\n",
              "      <td>сосед</td>\n",
              "      <td>сарказм</td>\n",
              "      <td>новость</td>\n",
              "      <td>город</td>\n",
              "      <td>человек</td>\n",
              "    </tr>\n",
              "    <tr>\n",
              "      <th>3</th>\n",
              "      <td>мода</td>\n",
              "      <td>заявление</td>\n",
              "      <td>песня</td>\n",
              "      <td>правило</td>\n",
              "      <td>новинка</td>\n",
              "      <td>рубрика</td>\n",
              "      <td>кошка</td>\n",
              "      <td>мир</td>\n",
              "      <td>готовить</td>\n",
              "      <td>товар</td>\n",
              "      <td>совет</td>\n",
              "      <td>миядзак</td>\n",
              "      <td>свежий</td>\n",
              "      <td>мир</td>\n",
              "      <td>санкт</td>\n",
              "      <td>школа</td>\n",
              "    </tr>\n",
              "    <tr>\n",
              "      <th>4</th>\n",
              "      <td>красота</td>\n",
              "      <td>сотрудничество</td>\n",
              "      <td>творческий</td>\n",
              "      <td>писать</td>\n",
              "      <td>смотреть</td>\n",
              "      <td>роскомнадзор</td>\n",
              "      <td>природа</td>\n",
              "      <td>добро</td>\n",
              "      <td>подписаться</td>\n",
              "      <td>украшение</td>\n",
              "      <td>ремонт</td>\n",
              "      <td>призрак</td>\n",
              "      <td>новость</td>\n",
              "      <td>выгодный</td>\n",
              "      <td>мероприятие</td>\n",
              "      <td>проект</td>\n",
              "    </tr>\n",
              "    <tr>\n",
              "      <th>5</th>\n",
              "      <td>вместе</td>\n",
              "      <td>заявка</td>\n",
              "      <td>история</td>\n",
              "      <td>вопрос</td>\n",
              "      <td>подборка</td>\n",
              "      <td>телеграм</td>\n",
              "      <td>удивительный</td>\n",
              "      <td>то</td>\n",
              "      <td>рекомендовать</td>\n",
              "      <td>одежда</td>\n",
              "      <td>английский</td>\n",
              "      <td>панда</td>\n",
              "      <td>жизнь</td>\n",
              "      <td>интересный</td>\n",
              "      <td>москва</td>\n",
              "      <td>курс</td>\n",
              "    </tr>\n",
              "    <tr>\n",
              "      <th>6</th>\n",
              "      <td>шоу</td>\n",
              "      <td>подписываться</td>\n",
              "      <td>слово</td>\n",
              "      <td>комментарий</td>\n",
              "      <td>просмотр</td>\n",
              "      <td>официальный</td>\n",
              "      <td>планета</td>\n",
              "      <td>пожаловать</td>\n",
              "      <td>иллюстрация</td>\n",
              "      <td>работа</td>\n",
              "      <td>полезный</td>\n",
              "      <td>унести</td>\n",
              "      <td>фильм</td>\n",
              "      <td>вконтакте</td>\n",
              "      <td>современный</td>\n",
              "      <td>работа</td>\n",
              "    </tr>\n",
              "    <tr>\n",
              "      <th>7</th>\n",
              "      <td>ежедневный</td>\n",
              "      <td>реклама</td>\n",
              "      <td>простой</td>\n",
              "      <td>реклама</td>\n",
              "      <td>хороший</td>\n",
              "      <td>включить</td>\n",
              "      <td>мир</td>\n",
              "      <td>что</td>\n",
              "      <td>кулинарный</td>\n",
              "      <td>сообщение</td>\n",
              "      <td>дом</td>\n",
              "      <td>любитель</td>\n",
              "      <td>день</td>\n",
              "      <td>журнал</td>\n",
              "      <td>официальный</td>\n",
              "      <td>индивидуальный</td>\n",
              "    </tr>\n",
              "    <tr>\n",
              "      <th>8</th>\n",
              "      <td>уход</td>\n",
              "      <td>психология</td>\n",
              "      <td>рок</td>\n",
              "      <td>сообщение</td>\n",
              "      <td>художник</td>\n",
              "      <td>регистрация</td>\n",
              "      <td>наука</td>\n",
              "      <td>смысл</td>\n",
              "      <td>вкус</td>\n",
              "      <td>россия</td>\n",
              "      <td>язык</td>\n",
              "      <td>ходячий</td>\n",
              "      <td>шутка</td>\n",
              "      <td>главное</td>\n",
              "      <td>концерт</td>\n",
              "      <td>обучение</td>\n",
              "    </tr>\n",
              "    <tr>\n",
              "      <th>9</th>\n",
              "      <td>маникюр</td>\n",
              "      <td>человек</td>\n",
              "      <td>рассказывать</td>\n",
              "      <td>публикация</td>\n",
              "      <td>приложение</td>\n",
              "      <td>персональный</td>\n",
              "      <td>кот</td>\n",
              "      <td>красота</td>\n",
              "      <td>связать</td>\n",
              "      <td>изделие</td>\n",
              "      <td>татуировка</td>\n",
              "      <td>тоторо</td>\n",
              "      <td>ирония</td>\n",
              "      <td>вкусный</td>\n",
              "      <td>год</td>\n",
              "      <td>жизнь</td>\n",
              "    </tr>\n",
              "    <tr>\n",
              "      <th>10</th>\n",
              "      <td>макияж</td>\n",
              "      <td>заходить</td>\n",
              "      <td>фотография</td>\n",
              "      <td>фото</td>\n",
              "      <td>мама</td>\n",
              "      <td>любимый</td>\n",
              "      <td>питер</td>\n",
              "      <td>путешествие</td>\n",
              "      <td>блюдо</td>\n",
              "      <td>цена</td>\n",
              "      <td>творчество</td>\n",
              "      <td>хаул</td>\n",
              "      <td>видео</td>\n",
              "      <td>ценитель</td>\n",
              "      <td>мир</td>\n",
              "      <td>развитие</td>\n",
              "    </tr>\n",
              "    <tr>\n",
              "      <th>11</th>\n",
              "      <td>волос</td>\n",
              "      <td>любить</td>\n",
              "      <td>фотограф</td>\n",
              "      <td>материал</td>\n",
              "      <td>обзор</td>\n",
              "      <td>первый</td>\n",
              "      <td>смешной</td>\n",
              "      <td>история</td>\n",
              "      <td>еда</td>\n",
              "      <td>личный</td>\n",
              "      <td>интересный</td>\n",
              "      <td>миадзак</td>\n",
              "      <td>звезда</td>\n",
              "      <td>команда</td>\n",
              "      <td>сайт</td>\n",
              "      <td>программа</td>\n",
              "    </tr>\n",
              "    <tr>\n",
              "      <th>12</th>\n",
              "      <td>женский</td>\n",
              "      <td>роскомнадзор</td>\n",
              "      <td>путешествовать</td>\n",
              "      <td>объявление</td>\n",
              "      <td>контент</td>\n",
              "      <td>мысль</td>\n",
              "      <td>порода</td>\n",
              "      <td>настроение</td>\n",
              "      <td>полезный</td>\n",
              "      <td>писать</td>\n",
              "      <td>мастер</td>\n",
              "      <td>литература</td>\n",
              "      <td>русский</td>\n",
              "      <td>первый</td>\n",
              "      <td>театр</td>\n",
              "      <td>профессиональный</td>\n",
              "    </tr>\n",
              "    <tr>\n",
              "      <th>13</th>\n",
              "      <td>бизнес</td>\n",
              "      <td>образование</td>\n",
              "      <td>китай</td>\n",
              "      <td>видео</td>\n",
              "      <td>картина</td>\n",
              "      <td>заявление</td>\n",
              "      <td>человек</td>\n",
              "      <td>интересный</td>\n",
              "      <td>юмор</td>\n",
              "      <td>вопрос</td>\n",
              "      <td>ребёнок</td>\n",
              "      <td>космос</td>\n",
              "      <td>контент</td>\n",
              "      <td>узнать</td>\n",
              "      <td>культурный</td>\n",
              "      <td>центр</td>\n",
              "    </tr>\n",
              "    <tr>\n",
              "      <th>14</th>\n",
              "      <td>новость</td>\n",
              "      <td>интересно</td>\n",
              "      <td>сказка</td>\n",
              "      <td>ссылка</td>\n",
              "      <td>уголок</td>\n",
              "      <td>зарегистрировать</td>\n",
              "      <td>интересный</td>\n",
              "      <td>человек</td>\n",
              "      <td>кухня</td>\n",
              "      <td>ручной</td>\n",
              "      <td>уютный</td>\n",
              "      <td>прочий</td>\n",
              "      <td>качественный</td>\n",
              "      <td>рука</td>\n",
              "      <td>экскурсия</td>\n",
              "      <td>время</td>\n",
              "    </tr>\n",
              "    <tr>\n",
              "      <th>15</th>\n",
              "      <td>тренд</td>\n",
              "      <td>развиваться</td>\n",
              "      <td>стиль</td>\n",
              "      <td>администрация</td>\n",
              "      <td>новость</td>\n",
              "      <td>игра</td>\n",
              "      <td>питомец</td>\n",
              "      <td>голова</td>\n",
              "      <td>хороший</td>\n",
              "      <td>купить</td>\n",
              "      <td>делиться</td>\n",
              "      <td>север</td>\n",
              "      <td>мир</td>\n",
              "      <td>событие</td>\n",
              "      <td>место</td>\n",
              "      <td>опыт</td>\n",
              "    </tr>\n",
              "    <tr>\n",
              "      <th>16</th>\n",
              "      <td>последний</td>\n",
              "      <td>найти</td>\n",
              "      <td>необычный</td>\n",
              "      <td>автор</td>\n",
              "      <td>онлайн</td>\n",
              "      <td>пропустить</td>\n",
              "      <td>факт</td>\n",
              "      <td>блог</td>\n",
              "      <td>милый</td>\n",
              "      <td>бренд</td>\n",
              "      <td>оригинальный</td>\n",
              "      <td>юмор</td>\n",
              "      <td>весёлый</td>\n",
              "      <td>читать</td>\n",
              "      <td>клуб</td>\n",
              "      <td>вопрос</td>\n",
              "    </tr>\n",
              "    <tr>\n",
              "      <th>17</th>\n",
              "      <td>жизнь</td>\n",
              "      <td>факт</td>\n",
              "      <td>жанр</td>\n",
              "      <td>присылать</td>\n",
              "      <td>новый</td>\n",
              "      <td>тематика</td>\n",
              "      <td>достижение</td>\n",
              "      <td>жить</td>\n",
              "      <td>автор</td>\n",
              "      <td>почта</td>\n",
              "      <td>лайфхак</td>\n",
              "      <td>служба</td>\n",
              "      <td>делать</td>\n",
              "      <td>факт</td>\n",
              "      <td>проект</td>\n",
              "      <td>работать</td>\n",
              "    </tr>\n",
              "    <tr>\n",
              "      <th>18</th>\n",
              "      <td>учить</td>\n",
              "      <td>позитив</td>\n",
              "      <td>год</td>\n",
              "      <td>информация</td>\n",
              "      <td>арт</td>\n",
              "      <td>реестр</td>\n",
              "      <td>дикий</td>\n",
              "      <td>друг</td>\n",
              "      <td>мнение</td>\n",
              "      <td>натуральный</td>\n",
              "      <td>работа</td>\n",
              "      <td>ветер</td>\n",
              "      <td>настроение</td>\n",
              "      <td>происходить</td>\n",
              "      <td>регистрация</td>\n",
              "      <td>поддержка</td>\n",
              "    </tr>\n",
              "    <tr>\n",
              "      <th>19</th>\n",
              "      <td>верить</td>\n",
              "      <td>жизнь</td>\n",
              "      <td>музыкант</td>\n",
              "      <td>опубликовать</td>\n",
              "      <td>актёр</td>\n",
              "      <td>сеть</td>\n",
              "      <td>домашний</td>\n",
              "      <td>привет</td>\n",
              "      <td>найти</td>\n",
              "      <td>аксессуар</td>\n",
              "      <td>найти</td>\n",
              "      <td>долина</td>\n",
              "      <td>новый</td>\n",
              "      <td>история</td>\n",
              "      <td>фестиваль</td>\n",
              "      <td>материал</td>\n",
              "    </tr>\n",
              "    <tr>\n",
              "      <th>20</th>\n",
              "      <td>кожа</td>\n",
              "      <td>давать</td>\n",
              "      <td>музыкальный</td>\n",
              "      <td>стена</td>\n",
              "      <td>последний</td>\n",
              "      <td>стих</td>\n",
              "      <td>забавный</td>\n",
              "      <td>найти</td>\n",
              "      <td>мат</td>\n",
              "      <td>ул</td>\n",
              "      <td>декор</td>\n",
              "      <td>склон</td>\n",
              "      <td>актуальный</td>\n",
              "      <td>оставаться</td>\n",
              "      <td>детский</td>\n",
              "      <td>деятельность</td>\n",
              "    </tr>\n",
              "    <tr>\n",
              "      <th>21</th>\n",
              "      <td>решить</td>\n",
              "      <td>юмор</td>\n",
              "      <td>век</td>\n",
              "      <td>бан</td>\n",
              "      <td>живопись</td>\n",
              "      <td>ссылка</td>\n",
              "      <td>друг</td>\n",
              "      <td>вместе</td>\n",
              "      <td>рада</td>\n",
              "      <td>мастерская</td>\n",
              "      <td>мир</td>\n",
              "      <td>принцесса</td>\n",
              "      <td>чёрный</td>\n",
              "      <td>литературный</td>\n",
              "      <td>хороший</td>\n",
              "      <td>помощь</td>\n",
              "    </tr>\n",
              "    <tr>\n",
              "      <th>22</th>\n",
              "      <td>идея</td>\n",
              "      <td>суета</td>\n",
              "      <td>страна</td>\n",
              "      <td>запись</td>\n",
              "      <td>подписываться</td>\n",
              "      <td>подписаться</td>\n",
              "      <td>милый</td>\n",
              "      <td>душевный</td>\n",
              "      <td>комментарий</td>\n",
              "      <td>наличие</td>\n",
              "      <td>вместе</td>\n",
              "      <td>тег</td>\n",
              "      <td>мем</td>\n",
              "      <td>главный</td>\n",
              "      <td>область</td>\n",
              "      <td>россия</td>\n",
              "    </tr>\n",
              "    <tr>\n",
              "      <th>23</th>\n",
              "      <td>эксклюзивный</td>\n",
              "      <td>хороший</td>\n",
              "      <td>создать</td>\n",
              "      <td>предлагать</td>\n",
              "      <td>академический</td>\n",
              "      <td>персонаж</td>\n",
              "      <td>форма</td>\n",
              "      <td>женщина</td>\n",
              "      <td>вселенная</td>\n",
              "      <td>создавать</td>\n",
              "      <td>вдохновение</td>\n",
              "      <td>ведьмин</td>\n",
              "      <td>смешной</td>\n",
              "      <td>публиковаться</td>\n",
              "      <td>центр</td>\n",
              "      <td>мир</td>\n",
              "    </tr>\n",
              "    <tr>\n",
              "      <th>24</th>\n",
              "      <td>предложение</td>\n",
              "      <td>настроение</td>\n",
              "      <td>интересный</td>\n",
              "      <td>право</td>\n",
              "      <td>качество</td>\n",
              "      <td>правильный</td>\n",
              "      <td>новый</td>\n",
              "      <td>любить</td>\n",
              "      <td>интересный</td>\n",
              "      <td>подарок</td>\n",
              "      <td>класс</td>\n",
              "      <td>исао</td>\n",
              "      <td>любовь</td>\n",
              "      <td>книжный</td>\n",
              "      <td>район</td>\n",
              "      <td>государственный</td>\n",
              "    </tr>\n",
              "  </tbody>\n",
              "</table>\n",
              "</div>"
            ],
            "text/plain": [
              "              0               1               2              3   \\\n",
              "0        история           номер          музыка        новость   \n",
              "1           душа     регистрация         человек           пост   \n",
              "2          место             мем             мир     предложить   \n",
              "3           мода       заявление           песня        правило   \n",
              "4        красота  сотрудничество      творческий         писать   \n",
              "5         вместе          заявка         история         вопрос   \n",
              "6            шоу   подписываться           слово    комментарий   \n",
              "7     ежедневный         реклама         простой        реклама   \n",
              "8           уход      психология             рок      сообщение   \n",
              "9        маникюр         человек    рассказывать     публикация   \n",
              "10        макияж        заходить      фотография           фото   \n",
              "11         волос          любить        фотограф       материал   \n",
              "12       женский    роскомнадзор  путешествовать     объявление   \n",
              "13        бизнес     образование           китай          видео   \n",
              "14       новость       интересно          сказка         ссылка   \n",
              "15         тренд     развиваться           стиль  администрация   \n",
              "16     последний           найти       необычный          автор   \n",
              "17         жизнь            факт            жанр      присылать   \n",
              "18         учить         позитив             год     информация   \n",
              "19        верить           жизнь        музыкант   опубликовать   \n",
              "20          кожа          давать     музыкальный          стена   \n",
              "21        решить            юмор             век            бан   \n",
              "22          идея           суета          страна         запись   \n",
              "23  эксклюзивный         хороший         создать     предлагать   \n",
              "24   предложение      настроение      интересный          право   \n",
              "\n",
              "               4                 5             6            7              8   \\\n",
              "0           фильм          перечень      животное    искусство         рецепт   \n",
              "1            кино          страница        собака        жизнь        вкусный   \n",
              "2          сериал             канал         котик  вдохновение         комикс   \n",
              "3         новинка           рубрика         кошка          мир       готовить   \n",
              "4        смотреть      роскомнадзор       природа        добро    подписаться   \n",
              "5        подборка          телеграм  удивительный           то  рекомендовать   \n",
              "6        просмотр       официальный       планета   пожаловать    иллюстрация   \n",
              "7         хороший          включить           мир          что     кулинарный   \n",
              "8        художник       регистрация         наука        смысл           вкус   \n",
              "9      приложение      персональный           кот      красота        связать   \n",
              "10           мама           любимый         питер  путешествие          блюдо   \n",
              "11          обзор            первый       смешной      история            еда   \n",
              "12        контент             мысль        порода   настроение       полезный   \n",
              "13        картина         заявление       человек   интересный           юмор   \n",
              "14         уголок  зарегистрировать    интересный      человек          кухня   \n",
              "15        новость              игра       питомец       голова        хороший   \n",
              "16         онлайн        пропустить          факт         блог          милый   \n",
              "17          новый          тематика    достижение         жить          автор   \n",
              "18            арт            реестр         дикий         друг         мнение   \n",
              "19          актёр              сеть      домашний       привет          найти   \n",
              "20      последний              стих      забавный        найти            мат   \n",
              "21       живопись            ссылка          друг       вместе           рада   \n",
              "22  подписываться       подписаться         милый     душевный    комментарий   \n",
              "23  академический          персонаж         форма      женщина      вселенная   \n",
              "24       качество        правильный         новый       любить     интересный   \n",
              "\n",
              "             9             10          11            12             13  \\\n",
              "0         заказ          идея       замок          юмор        реклама   \n",
              "1       магазин        дизайн        хаяо       хороший          книга   \n",
              "2      доставка      интерьер       сосед       сарказм        новость   \n",
              "3         товар         совет     миядзак        свежий            мир   \n",
              "4     украшение        ремонт     призрак       новость       выгодный   \n",
              "5        одежда    английский       панда         жизнь     интересный   \n",
              "6        работа      полезный      унести         фильм      вконтакте   \n",
              "7     сообщение           дом    любитель          день         журнал   \n",
              "8        россия          язык     ходячий         шутка        главное   \n",
              "9       изделие    татуировка      тоторо        ирония        вкусный   \n",
              "10         цена    творчество        хаул         видео       ценитель   \n",
              "11       личный    интересный     миадзак        звезда        команда   \n",
              "12       писать        мастер  литература       русский         первый   \n",
              "13       вопрос       ребёнок      космос       контент         узнать   \n",
              "14       ручной        уютный      прочий  качественный           рука   \n",
              "15       купить      делиться       север           мир        событие   \n",
              "16        бренд  оригинальный        юмор       весёлый         читать   \n",
              "17        почта       лайфхак      служба        делать           факт   \n",
              "18  натуральный        работа       ветер    настроение    происходить   \n",
              "19    аксессуар         найти      долина         новый        история   \n",
              "20           ул         декор       склон    актуальный     оставаться   \n",
              "21   мастерская           мир   принцесса        чёрный   литературный   \n",
              "22      наличие        вместе         тег           мем        главный   \n",
              "23    создавать   вдохновение     ведьмин       смешной  публиковаться   \n",
              "24      подарок         класс        исао        любовь        книжный   \n",
              "\n",
              "             14                15  \n",
              "0        россия               год  \n",
              "1     петербург           ребёнок  \n",
              "2         город           человек  \n",
              "3         санкт             школа  \n",
              "4   мероприятие            проект  \n",
              "5        москва              курс  \n",
              "6   современный            работа  \n",
              "7   официальный    индивидуальный  \n",
              "8       концерт          обучение  \n",
              "9           год             жизнь  \n",
              "10          мир          развитие  \n",
              "11         сайт         программа  \n",
              "12        театр  профессиональный  \n",
              "13   культурный             центр  \n",
              "14    экскурсия             время  \n",
              "15        место              опыт  \n",
              "16         клуб            вопрос  \n",
              "17       проект          работать  \n",
              "18  регистрация         поддержка  \n",
              "19    фестиваль          материал  \n",
              "20      детский      деятельность  \n",
              "21      хороший            помощь  \n",
              "22      область            россия  \n",
              "23        центр               мир  \n",
              "24        район   государственный  "
            ]
          },
          "execution_count": 42,
          "metadata": {},
          "output_type": "execute_result"
        }
      ],
      "source": [
        "df_clust.head(25)"
      ]
    },
    {
      "cell_type": "markdown",
      "id": "tto9vj8qV0eF",
      "metadata": {
        "id": "tto9vj8qV0eF"
      },
      "source": [
        "Looks like there are 7 clusters that signal the interests of Miyazaki's audience:\n",
        "- cluster \"2\" focuses on the music and creativity; \n",
        "- seems like cluster \"4\" is about cinema;\n",
        "- cluster \"6\" is about pets;\n",
        "- cluster \"7\" is a bit originative;\n",
        "- cluster \"8\" focused on food, cuisine and diet;\n",
        "- cluster \"14\" talks about leisure and city events;\n",
        "- cluster \"15\" clearly about education and growth."
      ]
    },
    {
      "cell_type": "markdown",
      "id": "eJDvk9qha2TD",
      "metadata": {
        "id": "eJDvk9qha2TD"
      },
      "source": [
        "### Сalculating presence of each cluster"
      ]
    },
    {
      "cell_type": "code",
      "execution_count": 43,
      "id": "9e7acb4a",
      "metadata": {
        "colab": {
          "base_uri": "https://localhost:8080/",
          "height": 341,
          "referenced_widgets": [
            "01359f86c1e746f8831223bac907bffa",
            "c1d728c029234c2cb9e7b91111059788",
            "a46c092b38b74e189ec02bb9fd3372d6",
            "a10f2d2b9f654228b729fbd4f2f98db4",
            "c6c2abcdcd984c56b76308669bccc43f",
            "b8a6fecb93c043c4b29ff06bca1fc55f",
            "c73bd5db54274fea94bcb06aba9613b1",
            "ca7cead7bfbf45d7962df0d077b75aec",
            "f1bb48cb51584d0f9023cfb9cf5a7087",
            "dd5d3fa3c2524ebc8a083f5ec3dddaad",
            "f0e2c5cee3c24d2bb029600d6de9dcd7",
            "a56d66ed58d44b068d69ad3ca834f282",
            "dd2c0f49023646b08b2228f96b92a002",
            "1589b534ecfc4a50b75e95bd32de4ff0",
            "51e0a6087ee04e9185053683551caf01",
            "ae1c0d956cdc4a63a84aad98d4ce4e85",
            "33882e1a94904768aea6d14e3dde37cf",
            "99f5f908c301419ab20174f7f239fdfa",
            "4eed40eb771f48bfb23f81e5a7b8deaa",
            "aa761519dfbc41d683e4310c3698d150",
            "6ee1aed9a761490ba80e67f89f1a91ea",
            "83c3f790e8e64e7aa9e2cea7d8ec1780"
          ]
        },
        "id": "9e7acb4a",
        "outputId": "252edcc3-e102-41f6-e875-fc7fe0fe4c3a"
      },
      "outputs": [
        {
          "name": "stdout",
          "output_type": "stream",
          "text": [
            "Train data: 0.871\n",
            "Test data: 0.826\n",
            "\n",
            "               precision    recall  f1-score   support\n",
            "\n",
            "           0       0.80      0.92      0.86       725\n",
            "           1       0.84      0.75      0.80       325\n",
            "           2       0.93      0.70      0.80       273\n",
            "           3       0.83      0.86      0.85       524\n",
            "           4       0.84      0.80      0.82       353\n",
            "           5       0.81      0.80      0.81       487\n",
            "           6       0.81      0.81      0.81       641\n",
            "\n",
            "    accuracy                           0.83      3328\n",
            "   macro avg       0.84      0.81      0.82      3328\n",
            "weighted avg       0.83      0.83      0.82      3328\n",
            "\n",
            "Cross validation: [0.81550481 0.8188101  0.82542067 0.82271635 0.81280048] ≈ 0.819\n"
          ]
        }
      ],
      "source": [
        "# Classification on clusters\n",
        "clusters_imp = [2, 4, 6, 7, 8, 14, 15] # Important clusters\n",
        "\n",
        "cluster_solution = []\n",
        "for mark_list in document_topics:\n",
        "    cluster_solution.append(mark_list[clusters_imp])\n",
        "\n",
        "y = []\n",
        "for marks_lists in cluster_solution:\n",
        "    m = list(marks_lists)\n",
        "    y.append(m.index(max(m)))\n",
        "\n",
        "x_train, x_test, y_train, y_test = train_test_split(x, y, test_size=0.2, random_state=0)\n",
        "\n",
        "classifier = LogisticRegression(max_iter=300)\n",
        "\n",
        "classifier.fit(x_train, y_train)\n",
        "y_pred = classifier.predict(x_test)\n",
        "cross_validation = cross_val_score(classifier, x, y, cv=5)\n",
        "\n",
        "print(\"Train data:\", round(classifier.score(x_train, y_train), 3))\n",
        "print(\"Test data:\", round(classifier.score(x_test, y_test), 3))\n",
        "print(\"\\n\", classification_report(y_test, y_pred))\n",
        "print(\"Cross validation:\", cross_validation, \"≈\", round(cross_validation.mean(), 3))\n",
        "\n",
        "scores = classifier.predict_proba(x.toarray())\n",
        "df_list = []\n",
        "index = 0\n",
        "for t in x:\n",
        "    df_list.append(list(np.append(t, scores[index])))\n",
        "    index += 1"
      ]
    },
    {
      "cell_type": "code",
      "execution_count": 44,
      "id": "c363ef29",
      "metadata": {
        "colab": {
          "base_uri": "https://localhost:8080/",
          "height": 406
        },
        "id": "c363ef29",
        "outputId": "ac0d86b7-417c-4577-b71b-bceb376cd94e"
      },
      "outputs": [
        {
          "data": {
            "application/vnd.plotly.v1+json": {
              "config": {
                "plotlyServerURL": "https://plot.ly"
              },
              "data": [
                {
                  "hoverinfo": "label+percent+text",
                  "hovertext": [
                    "музыка, человек, мир, песня, творческий",
                    "фильм, кино, сериал, новинка, смотреть",
                    "животное, собака, котик, кошка, природа",
                    "искусство, жизнь, вдохновение, мир, добро",
                    "рецепт, вкусный, комикс, готовить, подписаться",
                    "россия, петербург, город, санкт, мероприятие",
                    "год, ребёнок, человек, школа, проект"
                  ],
                  "labels": [
                    "Cluster_2",
                    "Cluster_4",
                    "Cluster_6",
                    "Cluster_7",
                    "Cluster_8",
                    "Cluster_14",
                    "Cluster_15"
                  ],
                  "marker": {
                    "colors": [
                      "rgb(102, 197, 204)",
                      "rgb(246, 207, 113)",
                      "rgb(248, 156, 116)",
                      "rgb(220, 176, 242)",
                      "rgb(135, 197, 95)",
                      "rgb(158, 185, 243)",
                      "rgb(254, 136, 177)",
                      "rgb(201, 219, 116)",
                      "rgb(139, 224, 164)",
                      "rgb(180, 151, 231)",
                      "rgb(179, 179, 179)"
                    ]
                  },
                  "textinfo": "percent",
                  "type": "pie",
                  "values": [
                    3785.515883192172,
                    1590.869879565986,
                    1279.3117830507695,
                    2619.82910995606,
                    1739.9665487217894,
                    2407.5021797733243,
                    3217.0046157398983
                  ]
                }
              ],
              "layout": {
                "font": {
                  "color": "#D9CAB3"
                },
                "legend": {
                  "font": {
                    "color": "#D9CAB3"
                  }
                },
                "paper_bgcolor": "#2D2A26",
                "plot_bgcolor": "#2D2A26",
                "template": {
                  "data": {
                    "bar": [
                      {
                        "error_x": {
                          "color": "#2a3f5f"
                        },
                        "error_y": {
                          "color": "#2a3f5f"
                        },
                        "marker": {
                          "line": {
                            "color": "#E5ECF6",
                            "width": 0.5
                          },
                          "pattern": {
                            "fillmode": "overlay",
                            "size": 10,
                            "solidity": 0.2
                          }
                        },
                        "type": "bar"
                      }
                    ],
                    "barpolar": [
                      {
                        "marker": {
                          "line": {
                            "color": "#E5ECF6",
                            "width": 0.5
                          },
                          "pattern": {
                            "fillmode": "overlay",
                            "size": 10,
                            "solidity": 0.2
                          }
                        },
                        "type": "barpolar"
                      }
                    ],
                    "carpet": [
                      {
                        "aaxis": {
                          "endlinecolor": "#2a3f5f",
                          "gridcolor": "white",
                          "linecolor": "white",
                          "minorgridcolor": "white",
                          "startlinecolor": "#2a3f5f"
                        },
                        "baxis": {
                          "endlinecolor": "#2a3f5f",
                          "gridcolor": "white",
                          "linecolor": "white",
                          "minorgridcolor": "white",
                          "startlinecolor": "#2a3f5f"
                        },
                        "type": "carpet"
                      }
                    ],
                    "choropleth": [
                      {
                        "colorbar": {
                          "outlinewidth": 0,
                          "ticks": ""
                        },
                        "type": "choropleth"
                      }
                    ],
                    "contour": [
                      {
                        "colorbar": {
                          "outlinewidth": 0,
                          "ticks": ""
                        },
                        "colorscale": [
                          [
                            0,
                            "#0d0887"
                          ],
                          [
                            0.1111111111111111,
                            "#46039f"
                          ],
                          [
                            0.2222222222222222,
                            "#7201a8"
                          ],
                          [
                            0.3333333333333333,
                            "#9c179e"
                          ],
                          [
                            0.4444444444444444,
                            "#bd3786"
                          ],
                          [
                            0.5555555555555556,
                            "#d8576b"
                          ],
                          [
                            0.6666666666666666,
                            "#ed7953"
                          ],
                          [
                            0.7777777777777778,
                            "#fb9f3a"
                          ],
                          [
                            0.8888888888888888,
                            "#fdca26"
                          ],
                          [
                            1,
                            "#f0f921"
                          ]
                        ],
                        "type": "contour"
                      }
                    ],
                    "contourcarpet": [
                      {
                        "colorbar": {
                          "outlinewidth": 0,
                          "ticks": ""
                        },
                        "type": "contourcarpet"
                      }
                    ],
                    "heatmap": [
                      {
                        "colorbar": {
                          "outlinewidth": 0,
                          "ticks": ""
                        },
                        "colorscale": [
                          [
                            0,
                            "#0d0887"
                          ],
                          [
                            0.1111111111111111,
                            "#46039f"
                          ],
                          [
                            0.2222222222222222,
                            "#7201a8"
                          ],
                          [
                            0.3333333333333333,
                            "#9c179e"
                          ],
                          [
                            0.4444444444444444,
                            "#bd3786"
                          ],
                          [
                            0.5555555555555556,
                            "#d8576b"
                          ],
                          [
                            0.6666666666666666,
                            "#ed7953"
                          ],
                          [
                            0.7777777777777778,
                            "#fb9f3a"
                          ],
                          [
                            0.8888888888888888,
                            "#fdca26"
                          ],
                          [
                            1,
                            "#f0f921"
                          ]
                        ],
                        "type": "heatmap"
                      }
                    ],
                    "heatmapgl": [
                      {
                        "colorbar": {
                          "outlinewidth": 0,
                          "ticks": ""
                        },
                        "colorscale": [
                          [
                            0,
                            "#0d0887"
                          ],
                          [
                            0.1111111111111111,
                            "#46039f"
                          ],
                          [
                            0.2222222222222222,
                            "#7201a8"
                          ],
                          [
                            0.3333333333333333,
                            "#9c179e"
                          ],
                          [
                            0.4444444444444444,
                            "#bd3786"
                          ],
                          [
                            0.5555555555555556,
                            "#d8576b"
                          ],
                          [
                            0.6666666666666666,
                            "#ed7953"
                          ],
                          [
                            0.7777777777777778,
                            "#fb9f3a"
                          ],
                          [
                            0.8888888888888888,
                            "#fdca26"
                          ],
                          [
                            1,
                            "#f0f921"
                          ]
                        ],
                        "type": "heatmapgl"
                      }
                    ],
                    "histogram": [
                      {
                        "marker": {
                          "pattern": {
                            "fillmode": "overlay",
                            "size": 10,
                            "solidity": 0.2
                          }
                        },
                        "type": "histogram"
                      }
                    ],
                    "histogram2d": [
                      {
                        "colorbar": {
                          "outlinewidth": 0,
                          "ticks": ""
                        },
                        "colorscale": [
                          [
                            0,
                            "#0d0887"
                          ],
                          [
                            0.1111111111111111,
                            "#46039f"
                          ],
                          [
                            0.2222222222222222,
                            "#7201a8"
                          ],
                          [
                            0.3333333333333333,
                            "#9c179e"
                          ],
                          [
                            0.4444444444444444,
                            "#bd3786"
                          ],
                          [
                            0.5555555555555556,
                            "#d8576b"
                          ],
                          [
                            0.6666666666666666,
                            "#ed7953"
                          ],
                          [
                            0.7777777777777778,
                            "#fb9f3a"
                          ],
                          [
                            0.8888888888888888,
                            "#fdca26"
                          ],
                          [
                            1,
                            "#f0f921"
                          ]
                        ],
                        "type": "histogram2d"
                      }
                    ],
                    "histogram2dcontour": [
                      {
                        "colorbar": {
                          "outlinewidth": 0,
                          "ticks": ""
                        },
                        "colorscale": [
                          [
                            0,
                            "#0d0887"
                          ],
                          [
                            0.1111111111111111,
                            "#46039f"
                          ],
                          [
                            0.2222222222222222,
                            "#7201a8"
                          ],
                          [
                            0.3333333333333333,
                            "#9c179e"
                          ],
                          [
                            0.4444444444444444,
                            "#bd3786"
                          ],
                          [
                            0.5555555555555556,
                            "#d8576b"
                          ],
                          [
                            0.6666666666666666,
                            "#ed7953"
                          ],
                          [
                            0.7777777777777778,
                            "#fb9f3a"
                          ],
                          [
                            0.8888888888888888,
                            "#fdca26"
                          ],
                          [
                            1,
                            "#f0f921"
                          ]
                        ],
                        "type": "histogram2dcontour"
                      }
                    ],
                    "mesh3d": [
                      {
                        "colorbar": {
                          "outlinewidth": 0,
                          "ticks": ""
                        },
                        "type": "mesh3d"
                      }
                    ],
                    "parcoords": [
                      {
                        "line": {
                          "colorbar": {
                            "outlinewidth": 0,
                            "ticks": ""
                          }
                        },
                        "type": "parcoords"
                      }
                    ],
                    "pie": [
                      {
                        "automargin": true,
                        "type": "pie"
                      }
                    ],
                    "scatter": [
                      {
                        "fillpattern": {
                          "fillmode": "overlay",
                          "size": 10,
                          "solidity": 0.2
                        },
                        "type": "scatter"
                      }
                    ],
                    "scatter3d": [
                      {
                        "line": {
                          "colorbar": {
                            "outlinewidth": 0,
                            "ticks": ""
                          }
                        },
                        "marker": {
                          "colorbar": {
                            "outlinewidth": 0,
                            "ticks": ""
                          }
                        },
                        "type": "scatter3d"
                      }
                    ],
                    "scattercarpet": [
                      {
                        "marker": {
                          "colorbar": {
                            "outlinewidth": 0,
                            "ticks": ""
                          }
                        },
                        "type": "scattercarpet"
                      }
                    ],
                    "scattergeo": [
                      {
                        "marker": {
                          "colorbar": {
                            "outlinewidth": 0,
                            "ticks": ""
                          }
                        },
                        "type": "scattergeo"
                      }
                    ],
                    "scattergl": [
                      {
                        "marker": {
                          "colorbar": {
                            "outlinewidth": 0,
                            "ticks": ""
                          }
                        },
                        "type": "scattergl"
                      }
                    ],
                    "scattermapbox": [
                      {
                        "marker": {
                          "colorbar": {
                            "outlinewidth": 0,
                            "ticks": ""
                          }
                        },
                        "type": "scattermapbox"
                      }
                    ],
                    "scatterpolar": [
                      {
                        "marker": {
                          "colorbar": {
                            "outlinewidth": 0,
                            "ticks": ""
                          }
                        },
                        "type": "scatterpolar"
                      }
                    ],
                    "scatterpolargl": [
                      {
                        "marker": {
                          "colorbar": {
                            "outlinewidth": 0,
                            "ticks": ""
                          }
                        },
                        "type": "scatterpolargl"
                      }
                    ],
                    "scatterternary": [
                      {
                        "marker": {
                          "colorbar": {
                            "outlinewidth": 0,
                            "ticks": ""
                          }
                        },
                        "type": "scatterternary"
                      }
                    ],
                    "surface": [
                      {
                        "colorbar": {
                          "outlinewidth": 0,
                          "ticks": ""
                        },
                        "colorscale": [
                          [
                            0,
                            "#0d0887"
                          ],
                          [
                            0.1111111111111111,
                            "#46039f"
                          ],
                          [
                            0.2222222222222222,
                            "#7201a8"
                          ],
                          [
                            0.3333333333333333,
                            "#9c179e"
                          ],
                          [
                            0.4444444444444444,
                            "#bd3786"
                          ],
                          [
                            0.5555555555555556,
                            "#d8576b"
                          ],
                          [
                            0.6666666666666666,
                            "#ed7953"
                          ],
                          [
                            0.7777777777777778,
                            "#fb9f3a"
                          ],
                          [
                            0.8888888888888888,
                            "#fdca26"
                          ],
                          [
                            1,
                            "#f0f921"
                          ]
                        ],
                        "type": "surface"
                      }
                    ],
                    "table": [
                      {
                        "cells": {
                          "fill": {
                            "color": "#EBF0F8"
                          },
                          "line": {
                            "color": "white"
                          }
                        },
                        "header": {
                          "fill": {
                            "color": "#C8D4E3"
                          },
                          "line": {
                            "color": "white"
                          }
                        },
                        "type": "table"
                      }
                    ]
                  },
                  "layout": {
                    "annotationdefaults": {
                      "arrowcolor": "#2a3f5f",
                      "arrowhead": 0,
                      "arrowwidth": 1
                    },
                    "autotypenumbers": "strict",
                    "coloraxis": {
                      "colorbar": {
                        "outlinewidth": 0,
                        "ticks": ""
                      }
                    },
                    "colorscale": {
                      "diverging": [
                        [
                          0,
                          "#8e0152"
                        ],
                        [
                          0.1,
                          "#c51b7d"
                        ],
                        [
                          0.2,
                          "#de77ae"
                        ],
                        [
                          0.3,
                          "#f1b6da"
                        ],
                        [
                          0.4,
                          "#fde0ef"
                        ],
                        [
                          0.5,
                          "#f7f7f7"
                        ],
                        [
                          0.6,
                          "#e6f5d0"
                        ],
                        [
                          0.7,
                          "#b8e186"
                        ],
                        [
                          0.8,
                          "#7fbc41"
                        ],
                        [
                          0.9,
                          "#4d9221"
                        ],
                        [
                          1,
                          "#276419"
                        ]
                      ],
                      "sequential": [
                        [
                          0,
                          "#0d0887"
                        ],
                        [
                          0.1111111111111111,
                          "#46039f"
                        ],
                        [
                          0.2222222222222222,
                          "#7201a8"
                        ],
                        [
                          0.3333333333333333,
                          "#9c179e"
                        ],
                        [
                          0.4444444444444444,
                          "#bd3786"
                        ],
                        [
                          0.5555555555555556,
                          "#d8576b"
                        ],
                        [
                          0.6666666666666666,
                          "#ed7953"
                        ],
                        [
                          0.7777777777777778,
                          "#fb9f3a"
                        ],
                        [
                          0.8888888888888888,
                          "#fdca26"
                        ],
                        [
                          1,
                          "#f0f921"
                        ]
                      ],
                      "sequentialminus": [
                        [
                          0,
                          "#0d0887"
                        ],
                        [
                          0.1111111111111111,
                          "#46039f"
                        ],
                        [
                          0.2222222222222222,
                          "#7201a8"
                        ],
                        [
                          0.3333333333333333,
                          "#9c179e"
                        ],
                        [
                          0.4444444444444444,
                          "#bd3786"
                        ],
                        [
                          0.5555555555555556,
                          "#d8576b"
                        ],
                        [
                          0.6666666666666666,
                          "#ed7953"
                        ],
                        [
                          0.7777777777777778,
                          "#fb9f3a"
                        ],
                        [
                          0.8888888888888888,
                          "#fdca26"
                        ],
                        [
                          1,
                          "#f0f921"
                        ]
                      ]
                    },
                    "colorway": [
                      "#636efa",
                      "#EF553B",
                      "#00cc96",
                      "#ab63fa",
                      "#FFA15A",
                      "#19d3f3",
                      "#FF6692",
                      "#B6E880",
                      "#FF97FF",
                      "#FECB52"
                    ],
                    "font": {
                      "color": "#2a3f5f"
                    },
                    "geo": {
                      "bgcolor": "white",
                      "lakecolor": "white",
                      "landcolor": "#E5ECF6",
                      "showlakes": true,
                      "showland": true,
                      "subunitcolor": "white"
                    },
                    "hoverlabel": {
                      "align": "left"
                    },
                    "hovermode": "closest",
                    "mapbox": {
                      "style": "light"
                    },
                    "paper_bgcolor": "white",
                    "plot_bgcolor": "#E5ECF6",
                    "polar": {
                      "angularaxis": {
                        "gridcolor": "white",
                        "linecolor": "white",
                        "ticks": ""
                      },
                      "bgcolor": "#E5ECF6",
                      "radialaxis": {
                        "gridcolor": "white",
                        "linecolor": "white",
                        "ticks": ""
                      }
                    },
                    "scene": {
                      "xaxis": {
                        "backgroundcolor": "#E5ECF6",
                        "gridcolor": "white",
                        "gridwidth": 2,
                        "linecolor": "white",
                        "showbackground": true,
                        "ticks": "",
                        "zerolinecolor": "white"
                      },
                      "yaxis": {
                        "backgroundcolor": "#E5ECF6",
                        "gridcolor": "white",
                        "gridwidth": 2,
                        "linecolor": "white",
                        "showbackground": true,
                        "ticks": "",
                        "zerolinecolor": "white"
                      },
                      "zaxis": {
                        "backgroundcolor": "#E5ECF6",
                        "gridcolor": "white",
                        "gridwidth": 2,
                        "linecolor": "white",
                        "showbackground": true,
                        "ticks": "",
                        "zerolinecolor": "white"
                      }
                    },
                    "shapedefaults": {
                      "line": {
                        "color": "#2a3f5f"
                      }
                    },
                    "ternary": {
                      "aaxis": {
                        "gridcolor": "white",
                        "linecolor": "white",
                        "ticks": ""
                      },
                      "baxis": {
                        "gridcolor": "white",
                        "linecolor": "white",
                        "ticks": ""
                      },
                      "bgcolor": "#E5ECF6",
                      "caxis": {
                        "gridcolor": "white",
                        "linecolor": "white",
                        "ticks": ""
                      }
                    },
                    "title": {
                      "x": 0.05
                    },
                    "xaxis": {
                      "automargin": true,
                      "gridcolor": "white",
                      "linecolor": "white",
                      "ticks": "",
                      "title": {
                        "standoff": 15
                      },
                      "zerolinecolor": "white",
                      "zerolinewidth": 2
                    },
                    "yaxis": {
                      "automargin": true,
                      "gridcolor": "white",
                      "linecolor": "white",
                      "ticks": "",
                      "title": {
                        "standoff": 15
                      },
                      "zerolinecolor": "white",
                      "zerolinewidth": 2
                    }
                  }
                },
                "title": {
                  "text": "Tematic Clusters for miyazaki_club group"
                },
                "width": 1000
              }
            }
          },
          "metadata": {},
          "output_type": "display_data"
        }
      ],
      "source": [
        "clusters_probs = pd.DataFrame(df_list).iloc[:, -len(clusters_imp):]\\\n",
        "                                      .set_axis([\"Cluster_\" + str(i) for i in clusters_imp], axis=1)\n",
        "\n",
        "clusters_presence = clusters_probs.sum()\n",
        "\n",
        "# Color scheme\n",
        "bg_color = \"#2D2A26\"\n",
        "paper_bg = \"#2D2A26\"\n",
        "font_color = \"#D9CAB3\"\n",
        "\n",
        "labels = clusters_presence.index.tolist()\n",
        "values = clusters_presence.values.tolist()\n",
        "\n",
        "# For hover: join top-5 words \n",
        "hover_text = []\n",
        "for lab in labels:\n",
        "    idx = int(lab.split(\"_\")[1])\n",
        "    top5 = clusters_tokens[idx][:5]\n",
        "    hover_text.append(\", \".join(top5))\n",
        "\n",
        "# Pie\n",
        "fig = go.Figure(go.Pie(\n",
        "    labels=labels,\n",
        "    values=values,\n",
        "    textinfo='percent',\n",
        "    hoverinfo='label+percent+text',\n",
        "    hovertext=hover_text,\n",
        "    marker=dict(colors=px.colors.qualitative.Pastel)  \n",
        "))\n",
        "\n",
        "fig.update_layout(\n",
        "    title=f'Tematic Clusters for {group_id} group',\n",
        "    plot_bgcolor=bg_color,\n",
        "    paper_bgcolor=paper_bg,\n",
        "    font=dict(color=font_color),\n",
        "    legend=dict(font=dict(color=font_color)),\n",
        "    width=1000\n",
        ")\n",
        "\n",
        "fig.show()"
      ]
    },
    {
      "cell_type": "markdown",
      "id": "0YYQYrKidBPD",
      "metadata": {
        "id": "0YYQYrKidBPD"
      },
      "source": [
        "Now we have probable distribution of the interests of Hayao Miyazaki's fans. It seems that they spend a lot of time reading and they generally care about art and the world around them."
      ]
    }
  ],
  "metadata": {
    "colab": {
      "provenance": []
    },
    "kernelspec": {
      "display_name": "Python 3",
      "language": "python",
      "name": "python3"
    },
    "language_info": {
      "codemirror_mode": {
        "name": "ipython",
        "version": 3
      },
      "file_extension": ".py",
      "mimetype": "text/x-python",
      "name": "python",
      "nbconvert_exporter": "python",
      "pygments_lexer": "ipython3",
      "version": "3.12.6"
    },
    "widgets": {
      "application/vnd.jupyter.widget-state+json": {
        "00a931725c2a40af94854f3b2d67d608": {
          "model_module": "@jupyter-widgets/controls",
          "model_module_version": "1.5.0",
          "model_name": "FloatProgressModel",
          "state": {
            "_dom_classes": [],
            "_model_module": "@jupyter-widgets/controls",
            "_model_module_version": "1.5.0",
            "_model_name": "FloatProgressModel",
            "_view_count": null,
            "_view_module": "@jupyter-widgets/controls",
            "_view_module_version": "1.5.0",
            "_view_name": "ProgressView",
            "bar_style": "success",
            "description": "",
            "description_tooltip": null,
            "layout": "IPY_MODEL_4b35e3513d14454897d17b95b504dac6",
            "max": 2,
            "min": 0,
            "orientation": "horizontal",
            "style": "IPY_MODEL_dd3f9a63f7804ccdbe473f261b49366b",
            "value": 2
          }
        },
        "01359f86c1e746f8831223bac907bffa": {
          "model_module": "@jupyter-widgets/controls",
          "model_module_version": "1.5.0",
          "model_name": "HBoxModel",
          "state": {
            "_dom_classes": [],
            "_model_module": "@jupyter-widgets/controls",
            "_model_module_version": "1.5.0",
            "_model_name": "HBoxModel",
            "_view_count": null,
            "_view_module": "@jupyter-widgets/controls",
            "_view_module_version": "1.5.0",
            "_view_name": "HBoxView",
            "box_style": "",
            "children": [
              "IPY_MODEL_c1d728c029234c2cb9e7b91111059788",
              "IPY_MODEL_a46c092b38b74e189ec02bb9fd3372d6",
              "IPY_MODEL_a10f2d2b9f654228b729fbd4f2f98db4"
            ],
            "layout": "IPY_MODEL_c6c2abcdcd984c56b76308669bccc43f"
          }
        },
        "01cf7def4edc44e9a15c257cec413661": {
          "model_module": "@jupyter-widgets/controls",
          "model_module_version": "1.5.0",
          "model_name": "FloatProgressModel",
          "state": {
            "_dom_classes": [],
            "_model_module": "@jupyter-widgets/controls",
            "_model_module_version": "1.5.0",
            "_model_name": "FloatProgressModel",
            "_view_count": null,
            "_view_module": "@jupyter-widgets/controls",
            "_view_module_version": "1.5.0",
            "_view_name": "ProgressView",
            "bar_style": "success",
            "description": "",
            "description_tooltip": null,
            "layout": "IPY_MODEL_30e63c1f3b9f492ab376ace2beba9c71",
            "max": 5788,
            "min": 0,
            "orientation": "horizontal",
            "style": "IPY_MODEL_8891e561a186436e88fb10c4e2a4c855",
            "value": 5788
          }
        },
        "08fd005c4cf847519a2f448d7cbcae01": {
          "model_module": "@jupyter-widgets/controls",
          "model_module_version": "1.5.0",
          "model_name": "HTMLModel",
          "state": {
            "_dom_classes": [],
            "_model_module": "@jupyter-widgets/controls",
            "_model_module_version": "1.5.0",
            "_model_name": "HTMLModel",
            "_view_count": null,
            "_view_module": "@jupyter-widgets/controls",
            "_view_module_version": "1.5.0",
            "_view_name": "HTMLView",
            "description": "",
            "description_tooltip": null,
            "layout": "IPY_MODEL_bd0c770a662a441ba2ff1a0a8bd44b3c",
            "placeholder": "​",
            "style": "IPY_MODEL_61064c8c75734fb8a1ed1e5bccc0a223",
            "value": "100%"
          }
        },
        "0abb98d48e4a4b73bf3188d8820359b0": {
          "model_module": "@jupyter-widgets/base",
          "model_module_version": "1.2.0",
          "model_name": "LayoutModel",
          "state": {
            "_model_module": "@jupyter-widgets/base",
            "_model_module_version": "1.2.0",
            "_model_name": "LayoutModel",
            "_view_count": null,
            "_view_module": "@jupyter-widgets/base",
            "_view_module_version": "1.2.0",
            "_view_name": "LayoutView",
            "align_content": null,
            "align_items": null,
            "align_self": null,
            "border": null,
            "bottom": null,
            "display": null,
            "flex": null,
            "flex_flow": null,
            "grid_area": null,
            "grid_auto_columns": null,
            "grid_auto_flow": null,
            "grid_auto_rows": null,
            "grid_column": null,
            "grid_gap": null,
            "grid_row": null,
            "grid_template_areas": null,
            "grid_template_columns": null,
            "grid_template_rows": null,
            "height": null,
            "justify_content": null,
            "justify_items": null,
            "left": null,
            "margin": null,
            "max_height": null,
            "max_width": null,
            "min_height": null,
            "min_width": null,
            "object_fit": null,
            "object_position": null,
            "order": null,
            "overflow": null,
            "overflow_x": null,
            "overflow_y": null,
            "padding": null,
            "right": null,
            "top": null,
            "visibility": null,
            "width": null
          }
        },
        "13ed4eb99c5f4a72a5878ff43302fe47": {
          "model_module": "@jupyter-widgets/controls",
          "model_module_version": "1.5.0",
          "model_name": "HBoxModel",
          "state": {
            "_dom_classes": [],
            "_model_module": "@jupyter-widgets/controls",
            "_model_module_version": "1.5.0",
            "_model_name": "HBoxModel",
            "_view_count": null,
            "_view_module": "@jupyter-widgets/controls",
            "_view_module_version": "1.5.0",
            "_view_name": "HBoxView",
            "box_style": "",
            "children": [
              "IPY_MODEL_4c37bb37cc754f6592c64aac5178c5a3",
              "IPY_MODEL_d85374b0430d411a9f75b0d639b6241b",
              "IPY_MODEL_bd119e8eeb4742a6a7060cce73693899"
            ],
            "layout": "IPY_MODEL_e3aa3d4f49f24964b7568e34bc667255"
          }
        },
        "1589b534ecfc4a50b75e95bd32de4ff0": {
          "model_module": "@jupyter-widgets/controls",
          "model_module_version": "1.5.0",
          "model_name": "FloatProgressModel",
          "state": {
            "_dom_classes": [],
            "_model_module": "@jupyter-widgets/controls",
            "_model_module_version": "1.5.0",
            "_model_name": "FloatProgressModel",
            "_view_count": null,
            "_view_module": "@jupyter-widgets/controls",
            "_view_module_version": "1.5.0",
            "_view_name": "ProgressView",
            "bar_style": "success",
            "description": "",
            "description_tooltip": null,
            "layout": "IPY_MODEL_4eed40eb771f48bfb23f81e5a7b8deaa",
            "max": 29659,
            "min": 0,
            "orientation": "horizontal",
            "style": "IPY_MODEL_aa761519dfbc41d683e4310c3698d150",
            "value": 29659
          }
        },
        "1b789a68d2214ad0ab988a31d93a3ced": {
          "model_module": "@jupyter-widgets/base",
          "model_module_version": "1.2.0",
          "model_name": "LayoutModel",
          "state": {
            "_model_module": "@jupyter-widgets/base",
            "_model_module_version": "1.2.0",
            "_model_name": "LayoutModel",
            "_view_count": null,
            "_view_module": "@jupyter-widgets/base",
            "_view_module_version": "1.2.0",
            "_view_name": "LayoutView",
            "align_content": null,
            "align_items": null,
            "align_self": null,
            "border": null,
            "bottom": null,
            "display": null,
            "flex": null,
            "flex_flow": null,
            "grid_area": null,
            "grid_auto_columns": null,
            "grid_auto_flow": null,
            "grid_auto_rows": null,
            "grid_column": null,
            "grid_gap": null,
            "grid_row": null,
            "grid_template_areas": null,
            "grid_template_columns": null,
            "grid_template_rows": null,
            "height": null,
            "justify_content": null,
            "justify_items": null,
            "left": null,
            "margin": null,
            "max_height": null,
            "max_width": null,
            "min_height": null,
            "min_width": null,
            "object_fit": null,
            "object_position": null,
            "order": null,
            "overflow": null,
            "overflow_x": null,
            "overflow_y": null,
            "padding": null,
            "right": null,
            "top": null,
            "visibility": null,
            "width": null
          }
        },
        "1f34dddf24184b4e82236f3b84b78c59": {
          "model_module": "@jupyter-widgets/base",
          "model_module_version": "1.2.0",
          "model_name": "LayoutModel",
          "state": {
            "_model_module": "@jupyter-widgets/base",
            "_model_module_version": "1.2.0",
            "_model_name": "LayoutModel",
            "_view_count": null,
            "_view_module": "@jupyter-widgets/base",
            "_view_module_version": "1.2.0",
            "_view_name": "LayoutView",
            "align_content": null,
            "align_items": null,
            "align_self": null,
            "border": null,
            "bottom": null,
            "display": null,
            "flex": null,
            "flex_flow": null,
            "grid_area": null,
            "grid_auto_columns": null,
            "grid_auto_flow": null,
            "grid_auto_rows": null,
            "grid_column": null,
            "grid_gap": null,
            "grid_row": null,
            "grid_template_areas": null,
            "grid_template_columns": null,
            "grid_template_rows": null,
            "height": null,
            "justify_content": null,
            "justify_items": null,
            "left": null,
            "margin": null,
            "max_height": null,
            "max_width": null,
            "min_height": null,
            "min_width": null,
            "object_fit": null,
            "object_position": null,
            "order": null,
            "overflow": null,
            "overflow_x": null,
            "overflow_y": null,
            "padding": null,
            "right": null,
            "top": null,
            "visibility": null,
            "width": null
          }
        },
        "20e546dd3f0b42728f162940c6109823": {
          "model_module": "@jupyter-widgets/base",
          "model_module_version": "1.2.0",
          "model_name": "LayoutModel",
          "state": {
            "_model_module": "@jupyter-widgets/base",
            "_model_module_version": "1.2.0",
            "_model_name": "LayoutModel",
            "_view_count": null,
            "_view_module": "@jupyter-widgets/base",
            "_view_module_version": "1.2.0",
            "_view_name": "LayoutView",
            "align_content": null,
            "align_items": null,
            "align_self": null,
            "border": null,
            "bottom": null,
            "display": null,
            "flex": null,
            "flex_flow": null,
            "grid_area": null,
            "grid_auto_columns": null,
            "grid_auto_flow": null,
            "grid_auto_rows": null,
            "grid_column": null,
            "grid_gap": null,
            "grid_row": null,
            "grid_template_areas": null,
            "grid_template_columns": null,
            "grid_template_rows": null,
            "height": null,
            "justify_content": null,
            "justify_items": null,
            "left": null,
            "margin": null,
            "max_height": null,
            "max_width": null,
            "min_height": null,
            "min_width": null,
            "object_fit": null,
            "object_position": null,
            "order": null,
            "overflow": null,
            "overflow_x": null,
            "overflow_y": null,
            "padding": null,
            "right": null,
            "top": null,
            "visibility": null,
            "width": null
          }
        },
        "2433e78de7dd476995bfbea7d0e4a452": {
          "model_module": "@jupyter-widgets/controls",
          "model_module_version": "1.5.0",
          "model_name": "FloatProgressModel",
          "state": {
            "_dom_classes": [],
            "_model_module": "@jupyter-widgets/controls",
            "_model_module_version": "1.5.0",
            "_model_name": "FloatProgressModel",
            "_view_count": null,
            "_view_module": "@jupyter-widgets/controls",
            "_view_module_version": "1.5.0",
            "_view_name": "ProgressView",
            "bar_style": "success",
            "description": "",
            "description_tooltip": null,
            "layout": "IPY_MODEL_92900db1b08445539f8a6ccff3961cbe",
            "max": 5788,
            "min": 0,
            "orientation": "horizontal",
            "style": "IPY_MODEL_cf76a0ae906f41c0b1e5362206de0bad",
            "value": 5788
          }
        },
        "2d379834f5a848c4a6fdf27a5e3f7b62": {
          "model_module": "@jupyter-widgets/controls",
          "model_module_version": "1.5.0",
          "model_name": "FloatProgressModel",
          "state": {
            "_dom_classes": [],
            "_model_module": "@jupyter-widgets/controls",
            "_model_module_version": "1.5.0",
            "_model_name": "FloatProgressModel",
            "_view_count": null,
            "_view_module": "@jupyter-widgets/controls",
            "_view_module_version": "1.5.0",
            "_view_name": "ProgressView",
            "bar_style": "success",
            "description": "",
            "description_tooltip": null,
            "layout": "IPY_MODEL_cdb474fd5c0e447b9bfeb8a535cf6293",
            "max": 15,
            "min": 0,
            "orientation": "horizontal",
            "style": "IPY_MODEL_73f90f285df04a04b9136617d49d680d",
            "value": 15
          }
        },
        "30e63c1f3b9f492ab376ace2beba9c71": {
          "model_module": "@jupyter-widgets/base",
          "model_module_version": "1.2.0",
          "model_name": "LayoutModel",
          "state": {
            "_model_module": "@jupyter-widgets/base",
            "_model_module_version": "1.2.0",
            "_model_name": "LayoutModel",
            "_view_count": null,
            "_view_module": "@jupyter-widgets/base",
            "_view_module_version": "1.2.0",
            "_view_name": "LayoutView",
            "align_content": null,
            "align_items": null,
            "align_self": null,
            "border": null,
            "bottom": null,
            "display": null,
            "flex": null,
            "flex_flow": null,
            "grid_area": null,
            "grid_auto_columns": null,
            "grid_auto_flow": null,
            "grid_auto_rows": null,
            "grid_column": null,
            "grid_gap": null,
            "grid_row": null,
            "grid_template_areas": null,
            "grid_template_columns": null,
            "grid_template_rows": null,
            "height": null,
            "justify_content": null,
            "justify_items": null,
            "left": null,
            "margin": null,
            "max_height": null,
            "max_width": null,
            "min_height": null,
            "min_width": null,
            "object_fit": null,
            "object_position": null,
            "order": null,
            "overflow": null,
            "overflow_x": null,
            "overflow_y": null,
            "padding": null,
            "right": null,
            "top": null,
            "visibility": null,
            "width": null
          }
        },
        "31f8c0da636a4bd0b34c2a4a4ffbdce7": {
          "model_module": "@jupyter-widgets/base",
          "model_module_version": "1.2.0",
          "model_name": "LayoutModel",
          "state": {
            "_model_module": "@jupyter-widgets/base",
            "_model_module_version": "1.2.0",
            "_model_name": "LayoutModel",
            "_view_count": null,
            "_view_module": "@jupyter-widgets/base",
            "_view_module_version": "1.2.0",
            "_view_name": "LayoutView",
            "align_content": null,
            "align_items": null,
            "align_self": null,
            "border": null,
            "bottom": null,
            "display": null,
            "flex": null,
            "flex_flow": null,
            "grid_area": null,
            "grid_auto_columns": null,
            "grid_auto_flow": null,
            "grid_auto_rows": null,
            "grid_column": null,
            "grid_gap": null,
            "grid_row": null,
            "grid_template_areas": null,
            "grid_template_columns": null,
            "grid_template_rows": null,
            "height": null,
            "justify_content": null,
            "justify_items": null,
            "left": null,
            "margin": null,
            "max_height": null,
            "max_width": null,
            "min_height": null,
            "min_width": null,
            "object_fit": null,
            "object_position": null,
            "order": null,
            "overflow": null,
            "overflow_x": null,
            "overflow_y": null,
            "padding": null,
            "right": null,
            "top": null,
            "visibility": null,
            "width": null
          }
        },
        "33882e1a94904768aea6d14e3dde37cf": {
          "model_module": "@jupyter-widgets/base",
          "model_module_version": "1.2.0",
          "model_name": "LayoutModel",
          "state": {
            "_model_module": "@jupyter-widgets/base",
            "_model_module_version": "1.2.0",
            "_model_name": "LayoutModel",
            "_view_count": null,
            "_view_module": "@jupyter-widgets/base",
            "_view_module_version": "1.2.0",
            "_view_name": "LayoutView",
            "align_content": null,
            "align_items": null,
            "align_self": null,
            "border": null,
            "bottom": null,
            "display": null,
            "flex": null,
            "flex_flow": null,
            "grid_area": null,
            "grid_auto_columns": null,
            "grid_auto_flow": null,
            "grid_auto_rows": null,
            "grid_column": null,
            "grid_gap": null,
            "grid_row": null,
            "grid_template_areas": null,
            "grid_template_columns": null,
            "grid_template_rows": null,
            "height": null,
            "justify_content": null,
            "justify_items": null,
            "left": null,
            "margin": null,
            "max_height": null,
            "max_width": null,
            "min_height": null,
            "min_width": null,
            "object_fit": null,
            "object_position": null,
            "order": null,
            "overflow": null,
            "overflow_x": null,
            "overflow_y": null,
            "padding": null,
            "right": null,
            "top": null,
            "visibility": null,
            "width": null
          }
        },
        "35bee3140c3743fc90e1163e48bfc0e6": {
          "model_module": "@jupyter-widgets/base",
          "model_module_version": "1.2.0",
          "model_name": "LayoutModel",
          "state": {
            "_model_module": "@jupyter-widgets/base",
            "_model_module_version": "1.2.0",
            "_model_name": "LayoutModel",
            "_view_count": null,
            "_view_module": "@jupyter-widgets/base",
            "_view_module_version": "1.2.0",
            "_view_name": "LayoutView",
            "align_content": null,
            "align_items": null,
            "align_self": null,
            "border": null,
            "bottom": null,
            "display": null,
            "flex": null,
            "flex_flow": null,
            "grid_area": null,
            "grid_auto_columns": null,
            "grid_auto_flow": null,
            "grid_auto_rows": null,
            "grid_column": null,
            "grid_gap": null,
            "grid_row": null,
            "grid_template_areas": null,
            "grid_template_columns": null,
            "grid_template_rows": null,
            "height": null,
            "justify_content": null,
            "justify_items": null,
            "left": null,
            "margin": null,
            "max_height": null,
            "max_width": null,
            "min_height": null,
            "min_width": null,
            "object_fit": null,
            "object_position": null,
            "order": null,
            "overflow": null,
            "overflow_x": null,
            "overflow_y": null,
            "padding": null,
            "right": null,
            "top": null,
            "visibility": null,
            "width": null
          }
        },
        "363134113f694dc8aaefa7751ac2e407": {
          "model_module": "@jupyter-widgets/base",
          "model_module_version": "1.2.0",
          "model_name": "LayoutModel",
          "state": {
            "_model_module": "@jupyter-widgets/base",
            "_model_module_version": "1.2.0",
            "_model_name": "LayoutModel",
            "_view_count": null,
            "_view_module": "@jupyter-widgets/base",
            "_view_module_version": "1.2.0",
            "_view_name": "LayoutView",
            "align_content": null,
            "align_items": null,
            "align_self": null,
            "border": null,
            "bottom": null,
            "display": null,
            "flex": null,
            "flex_flow": null,
            "grid_area": null,
            "grid_auto_columns": null,
            "grid_auto_flow": null,
            "grid_auto_rows": null,
            "grid_column": null,
            "grid_gap": null,
            "grid_row": null,
            "grid_template_areas": null,
            "grid_template_columns": null,
            "grid_template_rows": null,
            "height": null,
            "justify_content": null,
            "justify_items": null,
            "left": null,
            "margin": null,
            "max_height": null,
            "max_width": null,
            "min_height": null,
            "min_width": null,
            "object_fit": null,
            "object_position": null,
            "order": null,
            "overflow": null,
            "overflow_x": null,
            "overflow_y": null,
            "padding": null,
            "right": null,
            "top": null,
            "visibility": null,
            "width": null
          }
        },
        "36f4729cffb94b48bd5c224f210ebd01": {
          "model_module": "@jupyter-widgets/base",
          "model_module_version": "1.2.0",
          "model_name": "LayoutModel",
          "state": {
            "_model_module": "@jupyter-widgets/base",
            "_model_module_version": "1.2.0",
            "_model_name": "LayoutModel",
            "_view_count": null,
            "_view_module": "@jupyter-widgets/base",
            "_view_module_version": "1.2.0",
            "_view_name": "LayoutView",
            "align_content": null,
            "align_items": null,
            "align_self": null,
            "border": null,
            "bottom": null,
            "display": null,
            "flex": null,
            "flex_flow": null,
            "grid_area": null,
            "grid_auto_columns": null,
            "grid_auto_flow": null,
            "grid_auto_rows": null,
            "grid_column": null,
            "grid_gap": null,
            "grid_row": null,
            "grid_template_areas": null,
            "grid_template_columns": null,
            "grid_template_rows": null,
            "height": null,
            "justify_content": null,
            "justify_items": null,
            "left": null,
            "margin": null,
            "max_height": null,
            "max_width": null,
            "min_height": null,
            "min_width": null,
            "object_fit": null,
            "object_position": null,
            "order": null,
            "overflow": null,
            "overflow_x": null,
            "overflow_y": null,
            "padding": null,
            "right": null,
            "top": null,
            "visibility": null,
            "width": null
          }
        },
        "392424d20d414b108cd54aab94bbeb2b": {
          "model_module": "@jupyter-widgets/base",
          "model_module_version": "1.2.0",
          "model_name": "LayoutModel",
          "state": {
            "_model_module": "@jupyter-widgets/base",
            "_model_module_version": "1.2.0",
            "_model_name": "LayoutModel",
            "_view_count": null,
            "_view_module": "@jupyter-widgets/base",
            "_view_module_version": "1.2.0",
            "_view_name": "LayoutView",
            "align_content": null,
            "align_items": null,
            "align_self": null,
            "border": null,
            "bottom": null,
            "display": null,
            "flex": null,
            "flex_flow": null,
            "grid_area": null,
            "grid_auto_columns": null,
            "grid_auto_flow": null,
            "grid_auto_rows": null,
            "grid_column": null,
            "grid_gap": null,
            "grid_row": null,
            "grid_template_areas": null,
            "grid_template_columns": null,
            "grid_template_rows": null,
            "height": null,
            "justify_content": null,
            "justify_items": null,
            "left": null,
            "margin": null,
            "max_height": null,
            "max_width": null,
            "min_height": null,
            "min_width": null,
            "object_fit": null,
            "object_position": null,
            "order": null,
            "overflow": null,
            "overflow_x": null,
            "overflow_y": null,
            "padding": null,
            "right": null,
            "top": null,
            "visibility": null,
            "width": null
          }
        },
        "4083569e5be64eb98327ff2ac40b7098": {
          "model_module": "@jupyter-widgets/controls",
          "model_module_version": "1.5.0",
          "model_name": "FloatProgressModel",
          "state": {
            "_dom_classes": [],
            "_model_module": "@jupyter-widgets/controls",
            "_model_module_version": "1.5.0",
            "_model_name": "FloatProgressModel",
            "_view_count": null,
            "_view_module": "@jupyter-widgets/controls",
            "_view_module_version": "1.5.0",
            "_view_name": "ProgressView",
            "bar_style": "success",
            "description": "",
            "description_tooltip": null,
            "layout": "IPY_MODEL_a54b2cedc93a4e9f988f5a676de9ef01",
            "max": 200,
            "min": 0,
            "orientation": "horizontal",
            "style": "IPY_MODEL_bb29c0ddc3c94b5d87765c3b94eb4579",
            "value": 200
          }
        },
        "43611eed2467482683d70b60bf409461": {
          "model_module": "@jupyter-widgets/base",
          "model_module_version": "1.2.0",
          "model_name": "LayoutModel",
          "state": {
            "_model_module": "@jupyter-widgets/base",
            "_model_module_version": "1.2.0",
            "_model_name": "LayoutModel",
            "_view_count": null,
            "_view_module": "@jupyter-widgets/base",
            "_view_module_version": "1.2.0",
            "_view_name": "LayoutView",
            "align_content": null,
            "align_items": null,
            "align_self": null,
            "border": null,
            "bottom": null,
            "display": null,
            "flex": null,
            "flex_flow": null,
            "grid_area": null,
            "grid_auto_columns": null,
            "grid_auto_flow": null,
            "grid_auto_rows": null,
            "grid_column": null,
            "grid_gap": null,
            "grid_row": null,
            "grid_template_areas": null,
            "grid_template_columns": null,
            "grid_template_rows": null,
            "height": null,
            "justify_content": null,
            "justify_items": null,
            "left": null,
            "margin": null,
            "max_height": null,
            "max_width": null,
            "min_height": null,
            "min_width": null,
            "object_fit": null,
            "object_position": null,
            "order": null,
            "overflow": null,
            "overflow_x": null,
            "overflow_y": null,
            "padding": null,
            "right": null,
            "top": null,
            "visibility": null,
            "width": null
          }
        },
        "4712807ba97f4629bd939dbd0875058f": {
          "model_module": "@jupyter-widgets/controls",
          "model_module_version": "1.5.0",
          "model_name": "DescriptionStyleModel",
          "state": {
            "_model_module": "@jupyter-widgets/controls",
            "_model_module_version": "1.5.0",
            "_model_name": "DescriptionStyleModel",
            "_view_count": null,
            "_view_module": "@jupyter-widgets/base",
            "_view_module_version": "1.2.0",
            "_view_name": "StyleView",
            "description_width": ""
          }
        },
        "48ffc411a107499eb5dda16e0eaecde2": {
          "model_module": "@jupyter-widgets/controls",
          "model_module_version": "1.5.0",
          "model_name": "HTMLModel",
          "state": {
            "_dom_classes": [],
            "_model_module": "@jupyter-widgets/controls",
            "_model_module_version": "1.5.0",
            "_model_name": "HTMLModel",
            "_view_count": null,
            "_view_module": "@jupyter-widgets/controls",
            "_view_module_version": "1.5.0",
            "_view_name": "HTMLView",
            "description": "",
            "description_tooltip": null,
            "layout": "IPY_MODEL_35bee3140c3743fc90e1163e48bfc0e6",
            "placeholder": "​",
            "style": "IPY_MODEL_e8ed835f7e3b436184a99acb59d8344b",
            "value": " 200/200 [01:36&lt;00:00,  2.10it/s]"
          }
        },
        "4b203c218fd9496b9598c6840b0063f4": {
          "model_module": "@jupyter-widgets/base",
          "model_module_version": "1.2.0",
          "model_name": "LayoutModel",
          "state": {
            "_model_module": "@jupyter-widgets/base",
            "_model_module_version": "1.2.0",
            "_model_name": "LayoutModel",
            "_view_count": null,
            "_view_module": "@jupyter-widgets/base",
            "_view_module_version": "1.2.0",
            "_view_name": "LayoutView",
            "align_content": null,
            "align_items": null,
            "align_self": null,
            "border": null,
            "bottom": null,
            "display": null,
            "flex": null,
            "flex_flow": null,
            "grid_area": null,
            "grid_auto_columns": null,
            "grid_auto_flow": null,
            "grid_auto_rows": null,
            "grid_column": null,
            "grid_gap": null,
            "grid_row": null,
            "grid_template_areas": null,
            "grid_template_columns": null,
            "grid_template_rows": null,
            "height": null,
            "justify_content": null,
            "justify_items": null,
            "left": null,
            "margin": null,
            "max_height": null,
            "max_width": null,
            "min_height": null,
            "min_width": null,
            "object_fit": null,
            "object_position": null,
            "order": null,
            "overflow": null,
            "overflow_x": null,
            "overflow_y": null,
            "padding": null,
            "right": null,
            "top": null,
            "visibility": null,
            "width": null
          }
        },
        "4b35e3513d14454897d17b95b504dac6": {
          "model_module": "@jupyter-widgets/base",
          "model_module_version": "1.2.0",
          "model_name": "LayoutModel",
          "state": {
            "_model_module": "@jupyter-widgets/base",
            "_model_module_version": "1.2.0",
            "_model_name": "LayoutModel",
            "_view_count": null,
            "_view_module": "@jupyter-widgets/base",
            "_view_module_version": "1.2.0",
            "_view_name": "LayoutView",
            "align_content": null,
            "align_items": null,
            "align_self": null,
            "border": null,
            "bottom": null,
            "display": null,
            "flex": null,
            "flex_flow": null,
            "grid_area": null,
            "grid_auto_columns": null,
            "grid_auto_flow": null,
            "grid_auto_rows": null,
            "grid_column": null,
            "grid_gap": null,
            "grid_row": null,
            "grid_template_areas": null,
            "grid_template_columns": null,
            "grid_template_rows": null,
            "height": null,
            "justify_content": null,
            "justify_items": null,
            "left": null,
            "margin": null,
            "max_height": null,
            "max_width": null,
            "min_height": null,
            "min_width": null,
            "object_fit": null,
            "object_position": null,
            "order": null,
            "overflow": null,
            "overflow_x": null,
            "overflow_y": null,
            "padding": null,
            "right": null,
            "top": null,
            "visibility": null,
            "width": null
          }
        },
        "4c37bb37cc754f6592c64aac5178c5a3": {
          "model_module": "@jupyter-widgets/controls",
          "model_module_version": "1.5.0",
          "model_name": "HTMLModel",
          "state": {
            "_dom_classes": [],
            "_model_module": "@jupyter-widgets/controls",
            "_model_module_version": "1.5.0",
            "_model_name": "HTMLModel",
            "_view_count": null,
            "_view_module": "@jupyter-widgets/controls",
            "_view_module_version": "1.5.0",
            "_view_name": "HTMLView",
            "description": "",
            "description_tooltip": null,
            "layout": "IPY_MODEL_63d4e6baded04edd9576f5206997ca74",
            "placeholder": "​",
            "style": "IPY_MODEL_fd874483e11b42adb5c9229c6447da92",
            "value": "100%"
          }
        },
        "4ec070f383a643978863db37f63ab338": {
          "model_module": "@jupyter-widgets/controls",
          "model_module_version": "1.5.0",
          "model_name": "FloatProgressModel",
          "state": {
            "_dom_classes": [],
            "_model_module": "@jupyter-widgets/controls",
            "_model_module_version": "1.5.0",
            "_model_name": "FloatProgressModel",
            "_view_count": null,
            "_view_module": "@jupyter-widgets/controls",
            "_view_module_version": "1.5.0",
            "_view_name": "ProgressView",
            "bar_style": "success",
            "description": "",
            "description_tooltip": null,
            "layout": "IPY_MODEL_43611eed2467482683d70b60bf409461",
            "max": 5788,
            "min": 0,
            "orientation": "horizontal",
            "style": "IPY_MODEL_d7ed2f03495a4e87841f372de44fc46d",
            "value": 5788
          }
        },
        "4eed40eb771f48bfb23f81e5a7b8deaa": {
          "model_module": "@jupyter-widgets/base",
          "model_module_version": "1.2.0",
          "model_name": "LayoutModel",
          "state": {
            "_model_module": "@jupyter-widgets/base",
            "_model_module_version": "1.2.0",
            "_model_name": "LayoutModel",
            "_view_count": null,
            "_view_module": "@jupyter-widgets/base",
            "_view_module_version": "1.2.0",
            "_view_name": "LayoutView",
            "align_content": null,
            "align_items": null,
            "align_self": null,
            "border": null,
            "bottom": null,
            "display": null,
            "flex": null,
            "flex_flow": null,
            "grid_area": null,
            "grid_auto_columns": null,
            "grid_auto_flow": null,
            "grid_auto_rows": null,
            "grid_column": null,
            "grid_gap": null,
            "grid_row": null,
            "grid_template_areas": null,
            "grid_template_columns": null,
            "grid_template_rows": null,
            "height": null,
            "justify_content": null,
            "justify_items": null,
            "left": null,
            "margin": null,
            "max_height": null,
            "max_width": null,
            "min_height": null,
            "min_width": null,
            "object_fit": null,
            "object_position": null,
            "order": null,
            "overflow": null,
            "overflow_x": null,
            "overflow_y": null,
            "padding": null,
            "right": null,
            "top": null,
            "visibility": null,
            "width": null
          }
        },
        "51e0a6087ee04e9185053683551caf01": {
          "model_module": "@jupyter-widgets/controls",
          "model_module_version": "1.5.0",
          "model_name": "HTMLModel",
          "state": {
            "_dom_classes": [],
            "_model_module": "@jupyter-widgets/controls",
            "_model_module_version": "1.5.0",
            "_model_name": "HTMLModel",
            "_view_count": null,
            "_view_module": "@jupyter-widgets/controls",
            "_view_module_version": "1.5.0",
            "_view_name": "HTMLView",
            "description": "",
            "description_tooltip": null,
            "layout": "IPY_MODEL_6ee1aed9a761490ba80e67f89f1a91ea",
            "placeholder": "​",
            "style": "IPY_MODEL_83c3f790e8e64e7aa9e2cea7d8ec1780",
            "value": " 29659/29659 [00:00&lt;00:00, 218318.79it/s]"
          }
        },
        "5276dc92f06b46a6889798498c3774cd": {
          "model_module": "@jupyter-widgets/controls",
          "model_module_version": "1.5.0",
          "model_name": "HTMLModel",
          "state": {
            "_dom_classes": [],
            "_model_module": "@jupyter-widgets/controls",
            "_model_module_version": "1.5.0",
            "_model_name": "HTMLModel",
            "_view_count": null,
            "_view_module": "@jupyter-widgets/controls",
            "_view_module_version": "1.5.0",
            "_view_name": "HTMLView",
            "description": "",
            "description_tooltip": null,
            "layout": "IPY_MODEL_36f4729cffb94b48bd5c224f210ebd01",
            "placeholder": "​",
            "style": "IPY_MODEL_ee6f989f495444529fff499f98159d72",
            "value": " 2/2 [00:01&lt;00:00,  1.52it/s]"
          }
        },
        "56e49f929a564807b95dbfd779b53ae2": {
          "model_module": "@jupyter-widgets/controls",
          "model_module_version": "1.5.0",
          "model_name": "DescriptionStyleModel",
          "state": {
            "_model_module": "@jupyter-widgets/controls",
            "_model_module_version": "1.5.0",
            "_model_name": "DescriptionStyleModel",
            "_view_count": null,
            "_view_module": "@jupyter-widgets/base",
            "_view_module_version": "1.2.0",
            "_view_name": "StyleView",
            "description_width": ""
          }
        },
        "57eb1f3d4f0044dd8aceb9379a87395b": {
          "model_module": "@jupyter-widgets/controls",
          "model_module_version": "1.5.0",
          "model_name": "HBoxModel",
          "state": {
            "_dom_classes": [],
            "_model_module": "@jupyter-widgets/controls",
            "_model_module_version": "1.5.0",
            "_model_name": "HBoxModel",
            "_view_count": null,
            "_view_module": "@jupyter-widgets/controls",
            "_view_module_version": "1.5.0",
            "_view_name": "HBoxView",
            "box_style": "",
            "children": [
              "IPY_MODEL_e71fdc7d38bb4f9688fb0a38a4697df6",
              "IPY_MODEL_4ec070f383a643978863db37f63ab338",
              "IPY_MODEL_8fcbd757cfb146e6b8498eb6b508de19"
            ],
            "layout": "IPY_MODEL_e2a9696e795e439fbe3ddcedaa656ee1"
          }
        },
        "61064c8c75734fb8a1ed1e5bccc0a223": {
          "model_module": "@jupyter-widgets/controls",
          "model_module_version": "1.5.0",
          "model_name": "DescriptionStyleModel",
          "state": {
            "_model_module": "@jupyter-widgets/controls",
            "_model_module_version": "1.5.0",
            "_model_name": "DescriptionStyleModel",
            "_view_count": null,
            "_view_module": "@jupyter-widgets/base",
            "_view_module_version": "1.2.0",
            "_view_name": "StyleView",
            "description_width": ""
          }
        },
        "63781b3cf1634e238ad0fb216f5735e0": {
          "model_module": "@jupyter-widgets/controls",
          "model_module_version": "1.5.0",
          "model_name": "HBoxModel",
          "state": {
            "_dom_classes": [],
            "_model_module": "@jupyter-widgets/controls",
            "_model_module_version": "1.5.0",
            "_model_name": "HBoxModel",
            "_view_count": null,
            "_view_module": "@jupyter-widgets/controls",
            "_view_module_version": "1.5.0",
            "_view_name": "HBoxView",
            "box_style": "",
            "children": [
              "IPY_MODEL_6a9e7c08d57148c0874b3105b981bdd8",
              "IPY_MODEL_01cf7def4edc44e9a15c257cec413661",
              "IPY_MODEL_824edae248df41bda79f0c94b26b6b94"
            ],
            "layout": "IPY_MODEL_4b203c218fd9496b9598c6840b0063f4"
          }
        },
        "63d4e6baded04edd9576f5206997ca74": {
          "model_module": "@jupyter-widgets/base",
          "model_module_version": "1.2.0",
          "model_name": "LayoutModel",
          "state": {
            "_model_module": "@jupyter-widgets/base",
            "_model_module_version": "1.2.0",
            "_model_name": "LayoutModel",
            "_view_count": null,
            "_view_module": "@jupyter-widgets/base",
            "_view_module_version": "1.2.0",
            "_view_name": "LayoutView",
            "align_content": null,
            "align_items": null,
            "align_self": null,
            "border": null,
            "bottom": null,
            "display": null,
            "flex": null,
            "flex_flow": null,
            "grid_area": null,
            "grid_auto_columns": null,
            "grid_auto_flow": null,
            "grid_auto_rows": null,
            "grid_column": null,
            "grid_gap": null,
            "grid_row": null,
            "grid_template_areas": null,
            "grid_template_columns": null,
            "grid_template_rows": null,
            "height": null,
            "justify_content": null,
            "justify_items": null,
            "left": null,
            "margin": null,
            "max_height": null,
            "max_width": null,
            "min_height": null,
            "min_width": null,
            "object_fit": null,
            "object_position": null,
            "order": null,
            "overflow": null,
            "overflow_x": null,
            "overflow_y": null,
            "padding": null,
            "right": null,
            "top": null,
            "visibility": null,
            "width": null
          }
        },
        "6a9e7c08d57148c0874b3105b981bdd8": {
          "model_module": "@jupyter-widgets/controls",
          "model_module_version": "1.5.0",
          "model_name": "HTMLModel",
          "state": {
            "_dom_classes": [],
            "_model_module": "@jupyter-widgets/controls",
            "_model_module_version": "1.5.0",
            "_model_name": "HTMLModel",
            "_view_count": null,
            "_view_module": "@jupyter-widgets/controls",
            "_view_module_version": "1.5.0",
            "_view_name": "HTMLView",
            "description": "",
            "description_tooltip": null,
            "layout": "IPY_MODEL_31f8c0da636a4bd0b34c2a4a4ffbdce7",
            "placeholder": "​",
            "style": "IPY_MODEL_a36274aca0a142ac9e2c729c21110eca",
            "value": "100%"
          }
        },
        "6b9fb2e50aef4391919ae48b8ca29f36": {
          "model_module": "@jupyter-widgets/controls",
          "model_module_version": "1.5.0",
          "model_name": "ProgressStyleModel",
          "state": {
            "_model_module": "@jupyter-widgets/controls",
            "_model_module_version": "1.5.0",
            "_model_name": "ProgressStyleModel",
            "_view_count": null,
            "_view_module": "@jupyter-widgets/base",
            "_view_module_version": "1.2.0",
            "_view_name": "StyleView",
            "bar_color": null,
            "description_width": ""
          }
        },
        "6ee1aed9a761490ba80e67f89f1a91ea": {
          "model_module": "@jupyter-widgets/base",
          "model_module_version": "1.2.0",
          "model_name": "LayoutModel",
          "state": {
            "_model_module": "@jupyter-widgets/base",
            "_model_module_version": "1.2.0",
            "_model_name": "LayoutModel",
            "_view_count": null,
            "_view_module": "@jupyter-widgets/base",
            "_view_module_version": "1.2.0",
            "_view_name": "LayoutView",
            "align_content": null,
            "align_items": null,
            "align_self": null,
            "border": null,
            "bottom": null,
            "display": null,
            "flex": null,
            "flex_flow": null,
            "grid_area": null,
            "grid_auto_columns": null,
            "grid_auto_flow": null,
            "grid_auto_rows": null,
            "grid_column": null,
            "grid_gap": null,
            "grid_row": null,
            "grid_template_areas": null,
            "grid_template_columns": null,
            "grid_template_rows": null,
            "height": null,
            "justify_content": null,
            "justify_items": null,
            "left": null,
            "margin": null,
            "max_height": null,
            "max_width": null,
            "min_height": null,
            "min_width": null,
            "object_fit": null,
            "object_position": null,
            "order": null,
            "overflow": null,
            "overflow_x": null,
            "overflow_y": null,
            "padding": null,
            "right": null,
            "top": null,
            "visibility": null,
            "width": null
          }
        },
        "6fe56f99490d4f8ba3191efce2d57b07": {
          "model_module": "@jupyter-widgets/base",
          "model_module_version": "1.2.0",
          "model_name": "LayoutModel",
          "state": {
            "_model_module": "@jupyter-widgets/base",
            "_model_module_version": "1.2.0",
            "_model_name": "LayoutModel",
            "_view_count": null,
            "_view_module": "@jupyter-widgets/base",
            "_view_module_version": "1.2.0",
            "_view_name": "LayoutView",
            "align_content": null,
            "align_items": null,
            "align_self": null,
            "border": null,
            "bottom": null,
            "display": null,
            "flex": null,
            "flex_flow": null,
            "grid_area": null,
            "grid_auto_columns": null,
            "grid_auto_flow": null,
            "grid_auto_rows": null,
            "grid_column": null,
            "grid_gap": null,
            "grid_row": null,
            "grid_template_areas": null,
            "grid_template_columns": null,
            "grid_template_rows": null,
            "height": null,
            "justify_content": null,
            "justify_items": null,
            "left": null,
            "margin": null,
            "max_height": null,
            "max_width": null,
            "min_height": null,
            "min_width": null,
            "object_fit": null,
            "object_position": null,
            "order": null,
            "overflow": null,
            "overflow_x": null,
            "overflow_y": null,
            "padding": null,
            "right": null,
            "top": null,
            "visibility": null,
            "width": null
          }
        },
        "73f90f285df04a04b9136617d49d680d": {
          "model_module": "@jupyter-widgets/controls",
          "model_module_version": "1.5.0",
          "model_name": "ProgressStyleModel",
          "state": {
            "_model_module": "@jupyter-widgets/controls",
            "_model_module_version": "1.5.0",
            "_model_name": "ProgressStyleModel",
            "_view_count": null,
            "_view_module": "@jupyter-widgets/base",
            "_view_module_version": "1.2.0",
            "_view_name": "StyleView",
            "bar_color": null,
            "description_width": ""
          }
        },
        "747ecbb297eb44c4b9fd204165dc90e0": {
          "model_module": "@jupyter-widgets/controls",
          "model_module_version": "1.5.0",
          "model_name": "HBoxModel",
          "state": {
            "_dom_classes": [],
            "_model_module": "@jupyter-widgets/controls",
            "_model_module_version": "1.5.0",
            "_model_name": "HBoxModel",
            "_view_count": null,
            "_view_module": "@jupyter-widgets/controls",
            "_view_module_version": "1.5.0",
            "_view_name": "HBoxView",
            "box_style": "",
            "children": [
              "IPY_MODEL_08fd005c4cf847519a2f448d7cbcae01",
              "IPY_MODEL_00a931725c2a40af94854f3b2d67d608",
              "IPY_MODEL_5276dc92f06b46a6889798498c3774cd"
            ],
            "layout": "IPY_MODEL_6fe56f99490d4f8ba3191efce2d57b07"
          }
        },
        "7dba4977f25d423591aed6c17308ecd4": {
          "model_module": "@jupyter-widgets/controls",
          "model_module_version": "1.5.0",
          "model_name": "DescriptionStyleModel",
          "state": {
            "_model_module": "@jupyter-widgets/controls",
            "_model_module_version": "1.5.0",
            "_model_name": "DescriptionStyleModel",
            "_view_count": null,
            "_view_module": "@jupyter-widgets/base",
            "_view_module_version": "1.2.0",
            "_view_name": "StyleView",
            "description_width": ""
          }
        },
        "7e1502fef957460fa355f80cafd9cd84": {
          "model_module": "@jupyter-widgets/controls",
          "model_module_version": "1.5.0",
          "model_name": "HBoxModel",
          "state": {
            "_dom_classes": [],
            "_model_module": "@jupyter-widgets/controls",
            "_model_module_version": "1.5.0",
            "_model_name": "HBoxModel",
            "_view_count": null,
            "_view_module": "@jupyter-widgets/controls",
            "_view_module_version": "1.5.0",
            "_view_name": "HBoxView",
            "box_style": "",
            "children": [
              "IPY_MODEL_852c3c04e53a4fc2a715d96bee7f549d",
              "IPY_MODEL_4083569e5be64eb98327ff2ac40b7098",
              "IPY_MODEL_48ffc411a107499eb5dda16e0eaecde2"
            ],
            "layout": "IPY_MODEL_392424d20d414b108cd54aab94bbeb2b"
          }
        },
        "7e8bfd29d1b9451e91e0ea9052922c5c": {
          "model_module": "@jupyter-widgets/base",
          "model_module_version": "1.2.0",
          "model_name": "LayoutModel",
          "state": {
            "_model_module": "@jupyter-widgets/base",
            "_model_module_version": "1.2.0",
            "_model_name": "LayoutModel",
            "_view_count": null,
            "_view_module": "@jupyter-widgets/base",
            "_view_module_version": "1.2.0",
            "_view_name": "LayoutView",
            "align_content": null,
            "align_items": null,
            "align_self": null,
            "border": null,
            "bottom": null,
            "display": null,
            "flex": null,
            "flex_flow": null,
            "grid_area": null,
            "grid_auto_columns": null,
            "grid_auto_flow": null,
            "grid_auto_rows": null,
            "grid_column": null,
            "grid_gap": null,
            "grid_row": null,
            "grid_template_areas": null,
            "grid_template_columns": null,
            "grid_template_rows": null,
            "height": null,
            "justify_content": null,
            "justify_items": null,
            "left": null,
            "margin": null,
            "max_height": null,
            "max_width": null,
            "min_height": null,
            "min_width": null,
            "object_fit": null,
            "object_position": null,
            "order": null,
            "overflow": null,
            "overflow_x": null,
            "overflow_y": null,
            "padding": null,
            "right": null,
            "top": null,
            "visibility": null,
            "width": null
          }
        },
        "824edae248df41bda79f0c94b26b6b94": {
          "model_module": "@jupyter-widgets/controls",
          "model_module_version": "1.5.0",
          "model_name": "HTMLModel",
          "state": {
            "_dom_classes": [],
            "_model_module": "@jupyter-widgets/controls",
            "_model_module_version": "1.5.0",
            "_model_name": "HTMLModel",
            "_view_count": null,
            "_view_module": "@jupyter-widgets/controls",
            "_view_module_version": "1.5.0",
            "_view_name": "HTMLView",
            "description": "",
            "description_tooltip": null,
            "layout": "IPY_MODEL_1f34dddf24184b4e82236f3b84b78c59",
            "placeholder": "​",
            "style": "IPY_MODEL_911b90a5486c4e8faac14f52f941daf0",
            "value": " 5788/5788 [00:00&lt;00:00, 134260.04it/s]"
          }
        },
        "83c3f790e8e64e7aa9e2cea7d8ec1780": {
          "model_module": "@jupyter-widgets/controls",
          "model_module_version": "1.5.0",
          "model_name": "DescriptionStyleModel",
          "state": {
            "_model_module": "@jupyter-widgets/controls",
            "_model_module_version": "1.5.0",
            "_model_name": "DescriptionStyleModel",
            "_view_count": null,
            "_view_module": "@jupyter-widgets/base",
            "_view_module_version": "1.2.0",
            "_view_name": "StyleView",
            "description_width": ""
          }
        },
        "852c3c04e53a4fc2a715d96bee7f549d": {
          "model_module": "@jupyter-widgets/controls",
          "model_module_version": "1.5.0",
          "model_name": "HTMLModel",
          "state": {
            "_dom_classes": [],
            "_model_module": "@jupyter-widgets/controls",
            "_model_module_version": "1.5.0",
            "_model_name": "HTMLModel",
            "_view_count": null,
            "_view_module": "@jupyter-widgets/controls",
            "_view_module_version": "1.5.0",
            "_view_name": "HTMLView",
            "description": "",
            "description_tooltip": null,
            "layout": "IPY_MODEL_20e546dd3f0b42728f162940c6109823",
            "placeholder": "​",
            "style": "IPY_MODEL_92952e2c5e3f4cb6a6209424fe9b6351",
            "value": "100%"
          }
        },
        "8891e561a186436e88fb10c4e2a4c855": {
          "model_module": "@jupyter-widgets/controls",
          "model_module_version": "1.5.0",
          "model_name": "ProgressStyleModel",
          "state": {
            "_model_module": "@jupyter-widgets/controls",
            "_model_module_version": "1.5.0",
            "_model_name": "ProgressStyleModel",
            "_view_count": null,
            "_view_module": "@jupyter-widgets/base",
            "_view_module_version": "1.2.0",
            "_view_name": "StyleView",
            "bar_color": null,
            "description_width": ""
          }
        },
        "899628c6358c45e090430693322ee2e5": {
          "model_module": "@jupyter-widgets/base",
          "model_module_version": "1.2.0",
          "model_name": "LayoutModel",
          "state": {
            "_model_module": "@jupyter-widgets/base",
            "_model_module_version": "1.2.0",
            "_model_name": "LayoutModel",
            "_view_count": null,
            "_view_module": "@jupyter-widgets/base",
            "_view_module_version": "1.2.0",
            "_view_name": "LayoutView",
            "align_content": null,
            "align_items": null,
            "align_self": null,
            "border": null,
            "bottom": null,
            "display": null,
            "flex": null,
            "flex_flow": null,
            "grid_area": null,
            "grid_auto_columns": null,
            "grid_auto_flow": null,
            "grid_auto_rows": null,
            "grid_column": null,
            "grid_gap": null,
            "grid_row": null,
            "grid_template_areas": null,
            "grid_template_columns": null,
            "grid_template_rows": null,
            "height": null,
            "justify_content": null,
            "justify_items": null,
            "left": null,
            "margin": null,
            "max_height": null,
            "max_width": null,
            "min_height": null,
            "min_width": null,
            "object_fit": null,
            "object_position": null,
            "order": null,
            "overflow": null,
            "overflow_x": null,
            "overflow_y": null,
            "padding": null,
            "right": null,
            "top": null,
            "visibility": null,
            "width": null
          }
        },
        "8fcbd757cfb146e6b8498eb6b508de19": {
          "model_module": "@jupyter-widgets/controls",
          "model_module_version": "1.5.0",
          "model_name": "HTMLModel",
          "state": {
            "_dom_classes": [],
            "_model_module": "@jupyter-widgets/controls",
            "_model_module_version": "1.5.0",
            "_model_name": "HTMLModel",
            "_view_count": null,
            "_view_module": "@jupyter-widgets/controls",
            "_view_module_version": "1.5.0",
            "_view_name": "HTMLView",
            "description": "",
            "description_tooltip": null,
            "layout": "IPY_MODEL_9fcc71e29dbb4213b06ddcca60010c89",
            "placeholder": "​",
            "style": "IPY_MODEL_56e49f929a564807b95dbfd779b53ae2",
            "value": " 5788/5788 [00:00&lt;00:00, 105077.27it/s]"
          }
        },
        "911b90a5486c4e8faac14f52f941daf0": {
          "model_module": "@jupyter-widgets/controls",
          "model_module_version": "1.5.0",
          "model_name": "DescriptionStyleModel",
          "state": {
            "_model_module": "@jupyter-widgets/controls",
            "_model_module_version": "1.5.0",
            "_model_name": "DescriptionStyleModel",
            "_view_count": null,
            "_view_module": "@jupyter-widgets/base",
            "_view_module_version": "1.2.0",
            "_view_name": "StyleView",
            "description_width": ""
          }
        },
        "92900db1b08445539f8a6ccff3961cbe": {
          "model_module": "@jupyter-widgets/base",
          "model_module_version": "1.2.0",
          "model_name": "LayoutModel",
          "state": {
            "_model_module": "@jupyter-widgets/base",
            "_model_module_version": "1.2.0",
            "_model_name": "LayoutModel",
            "_view_count": null,
            "_view_module": "@jupyter-widgets/base",
            "_view_module_version": "1.2.0",
            "_view_name": "LayoutView",
            "align_content": null,
            "align_items": null,
            "align_self": null,
            "border": null,
            "bottom": null,
            "display": null,
            "flex": null,
            "flex_flow": null,
            "grid_area": null,
            "grid_auto_columns": null,
            "grid_auto_flow": null,
            "grid_auto_rows": null,
            "grid_column": null,
            "grid_gap": null,
            "grid_row": null,
            "grid_template_areas": null,
            "grid_template_columns": null,
            "grid_template_rows": null,
            "height": null,
            "justify_content": null,
            "justify_items": null,
            "left": null,
            "margin": null,
            "max_height": null,
            "max_width": null,
            "min_height": null,
            "min_width": null,
            "object_fit": null,
            "object_position": null,
            "order": null,
            "overflow": null,
            "overflow_x": null,
            "overflow_y": null,
            "padding": null,
            "right": null,
            "top": null,
            "visibility": null,
            "width": null
          }
        },
        "92952e2c5e3f4cb6a6209424fe9b6351": {
          "model_module": "@jupyter-widgets/controls",
          "model_module_version": "1.5.0",
          "model_name": "DescriptionStyleModel",
          "state": {
            "_model_module": "@jupyter-widgets/controls",
            "_model_module_version": "1.5.0",
            "_model_name": "DescriptionStyleModel",
            "_view_count": null,
            "_view_module": "@jupyter-widgets/base",
            "_view_module_version": "1.2.0",
            "_view_name": "StyleView",
            "description_width": ""
          }
        },
        "93154939f693489c90db76128fa32038": {
          "model_module": "@jupyter-widgets/controls",
          "model_module_version": "1.5.0",
          "model_name": "DescriptionStyleModel",
          "state": {
            "_model_module": "@jupyter-widgets/controls",
            "_model_module_version": "1.5.0",
            "_model_name": "DescriptionStyleModel",
            "_view_count": null,
            "_view_module": "@jupyter-widgets/base",
            "_view_module_version": "1.2.0",
            "_view_name": "StyleView",
            "description_width": ""
          }
        },
        "99f5f908c301419ab20174f7f239fdfa": {
          "model_module": "@jupyter-widgets/controls",
          "model_module_version": "1.5.0",
          "model_name": "DescriptionStyleModel",
          "state": {
            "_model_module": "@jupyter-widgets/controls",
            "_model_module_version": "1.5.0",
            "_model_name": "DescriptionStyleModel",
            "_view_count": null,
            "_view_module": "@jupyter-widgets/base",
            "_view_module_version": "1.2.0",
            "_view_name": "StyleView",
            "description_width": ""
          }
        },
        "9b20b9e8a4fb437187ff2edb5deda0fe": {
          "model_module": "@jupyter-widgets/base",
          "model_module_version": "1.2.0",
          "model_name": "LayoutModel",
          "state": {
            "_model_module": "@jupyter-widgets/base",
            "_model_module_version": "1.2.0",
            "_model_name": "LayoutModel",
            "_view_count": null,
            "_view_module": "@jupyter-widgets/base",
            "_view_module_version": "1.2.0",
            "_view_name": "LayoutView",
            "align_content": null,
            "align_items": null,
            "align_self": null,
            "border": null,
            "bottom": null,
            "display": null,
            "flex": null,
            "flex_flow": null,
            "grid_area": null,
            "grid_auto_columns": null,
            "grid_auto_flow": null,
            "grid_auto_rows": null,
            "grid_column": null,
            "grid_gap": null,
            "grid_row": null,
            "grid_template_areas": null,
            "grid_template_columns": null,
            "grid_template_rows": null,
            "height": null,
            "justify_content": null,
            "justify_items": null,
            "left": null,
            "margin": null,
            "max_height": null,
            "max_width": null,
            "min_height": null,
            "min_width": null,
            "object_fit": null,
            "object_position": null,
            "order": null,
            "overflow": null,
            "overflow_x": null,
            "overflow_y": null,
            "padding": null,
            "right": null,
            "top": null,
            "visibility": null,
            "width": null
          }
        },
        "9fcc71e29dbb4213b06ddcca60010c89": {
          "model_module": "@jupyter-widgets/base",
          "model_module_version": "1.2.0",
          "model_name": "LayoutModel",
          "state": {
            "_model_module": "@jupyter-widgets/base",
            "_model_module_version": "1.2.0",
            "_model_name": "LayoutModel",
            "_view_count": null,
            "_view_module": "@jupyter-widgets/base",
            "_view_module_version": "1.2.0",
            "_view_name": "LayoutView",
            "align_content": null,
            "align_items": null,
            "align_self": null,
            "border": null,
            "bottom": null,
            "display": null,
            "flex": null,
            "flex_flow": null,
            "grid_area": null,
            "grid_auto_columns": null,
            "grid_auto_flow": null,
            "grid_auto_rows": null,
            "grid_column": null,
            "grid_gap": null,
            "grid_row": null,
            "grid_template_areas": null,
            "grid_template_columns": null,
            "grid_template_rows": null,
            "height": null,
            "justify_content": null,
            "justify_items": null,
            "left": null,
            "margin": null,
            "max_height": null,
            "max_width": null,
            "min_height": null,
            "min_width": null,
            "object_fit": null,
            "object_position": null,
            "order": null,
            "overflow": null,
            "overflow_x": null,
            "overflow_y": null,
            "padding": null,
            "right": null,
            "top": null,
            "visibility": null,
            "width": null
          }
        },
        "a10f2d2b9f654228b729fbd4f2f98db4": {
          "model_module": "@jupyter-widgets/controls",
          "model_module_version": "1.5.0",
          "model_name": "HTMLModel",
          "state": {
            "_dom_classes": [],
            "_model_module": "@jupyter-widgets/controls",
            "_model_module_version": "1.5.0",
            "_model_name": "HTMLModel",
            "_view_count": null,
            "_view_module": "@jupyter-widgets/controls",
            "_view_module_version": "1.5.0",
            "_view_name": "HTMLView",
            "description": "",
            "description_tooltip": null,
            "layout": "IPY_MODEL_dd5d3fa3c2524ebc8a083f5ec3dddaad",
            "placeholder": "​",
            "style": "IPY_MODEL_f0e2c5cee3c24d2bb029600d6de9dcd7",
            "value": " 29659/29659 [00:00&lt;00:00, 272373.63it/s]"
          }
        },
        "a36274aca0a142ac9e2c729c21110eca": {
          "model_module": "@jupyter-widgets/controls",
          "model_module_version": "1.5.0",
          "model_name": "DescriptionStyleModel",
          "state": {
            "_model_module": "@jupyter-widgets/controls",
            "_model_module_version": "1.5.0",
            "_model_name": "DescriptionStyleModel",
            "_view_count": null,
            "_view_module": "@jupyter-widgets/base",
            "_view_module_version": "1.2.0",
            "_view_name": "StyleView",
            "description_width": ""
          }
        },
        "a46c092b38b74e189ec02bb9fd3372d6": {
          "model_module": "@jupyter-widgets/controls",
          "model_module_version": "1.5.0",
          "model_name": "FloatProgressModel",
          "state": {
            "_dom_classes": [],
            "_model_module": "@jupyter-widgets/controls",
            "_model_module_version": "1.5.0",
            "_model_name": "FloatProgressModel",
            "_view_count": null,
            "_view_module": "@jupyter-widgets/controls",
            "_view_module_version": "1.5.0",
            "_view_name": "ProgressView",
            "bar_style": "success",
            "description": "",
            "description_tooltip": null,
            "layout": "IPY_MODEL_ca7cead7bfbf45d7962df0d077b75aec",
            "max": 29659,
            "min": 0,
            "orientation": "horizontal",
            "style": "IPY_MODEL_f1bb48cb51584d0f9023cfb9cf5a7087",
            "value": 29659
          }
        },
        "a54b2cedc93a4e9f988f5a676de9ef01": {
          "model_module": "@jupyter-widgets/base",
          "model_module_version": "1.2.0",
          "model_name": "LayoutModel",
          "state": {
            "_model_module": "@jupyter-widgets/base",
            "_model_module_version": "1.2.0",
            "_model_name": "LayoutModel",
            "_view_count": null,
            "_view_module": "@jupyter-widgets/base",
            "_view_module_version": "1.2.0",
            "_view_name": "LayoutView",
            "align_content": null,
            "align_items": null,
            "align_self": null,
            "border": null,
            "bottom": null,
            "display": null,
            "flex": null,
            "flex_flow": null,
            "grid_area": null,
            "grid_auto_columns": null,
            "grid_auto_flow": null,
            "grid_auto_rows": null,
            "grid_column": null,
            "grid_gap": null,
            "grid_row": null,
            "grid_template_areas": null,
            "grid_template_columns": null,
            "grid_template_rows": null,
            "height": null,
            "justify_content": null,
            "justify_items": null,
            "left": null,
            "margin": null,
            "max_height": null,
            "max_width": null,
            "min_height": null,
            "min_width": null,
            "object_fit": null,
            "object_position": null,
            "order": null,
            "overflow": null,
            "overflow_x": null,
            "overflow_y": null,
            "padding": null,
            "right": null,
            "top": null,
            "visibility": null,
            "width": null
          }
        },
        "a56d66ed58d44b068d69ad3ca834f282": {
          "model_module": "@jupyter-widgets/controls",
          "model_module_version": "1.5.0",
          "model_name": "HBoxModel",
          "state": {
            "_dom_classes": [],
            "_model_module": "@jupyter-widgets/controls",
            "_model_module_version": "1.5.0",
            "_model_name": "HBoxModel",
            "_view_count": null,
            "_view_module": "@jupyter-widgets/controls",
            "_view_module_version": "1.5.0",
            "_view_name": "HBoxView",
            "box_style": "",
            "children": [
              "IPY_MODEL_dd2c0f49023646b08b2228f96b92a002",
              "IPY_MODEL_1589b534ecfc4a50b75e95bd32de4ff0",
              "IPY_MODEL_51e0a6087ee04e9185053683551caf01"
            ],
            "layout": "IPY_MODEL_ae1c0d956cdc4a63a84aad98d4ce4e85"
          }
        },
        "a7f9e154beaf4f8ba6963184ecccb505": {
          "model_module": "@jupyter-widgets/controls",
          "model_module_version": "1.5.0",
          "model_name": "HBoxModel",
          "state": {
            "_dom_classes": [],
            "_model_module": "@jupyter-widgets/controls",
            "_model_module_version": "1.5.0",
            "_model_name": "HBoxModel",
            "_view_count": null,
            "_view_module": "@jupyter-widgets/controls",
            "_view_module_version": "1.5.0",
            "_view_name": "HBoxView",
            "box_style": "",
            "children": [
              "IPY_MODEL_d001b95496384b6abe9f026657e35f35",
              "IPY_MODEL_2433e78de7dd476995bfbea7d0e4a452",
              "IPY_MODEL_fe94f00b55e94bbf98a540c7bb9891b7"
            ],
            "layout": "IPY_MODEL_363134113f694dc8aaefa7751ac2e407"
          }
        },
        "aa761519dfbc41d683e4310c3698d150": {
          "model_module": "@jupyter-widgets/controls",
          "model_module_version": "1.5.0",
          "model_name": "ProgressStyleModel",
          "state": {
            "_model_module": "@jupyter-widgets/controls",
            "_model_module_version": "1.5.0",
            "_model_name": "ProgressStyleModel",
            "_view_count": null,
            "_view_module": "@jupyter-widgets/base",
            "_view_module_version": "1.2.0",
            "_view_name": "StyleView",
            "bar_color": null,
            "description_width": ""
          }
        },
        "ae1c0d956cdc4a63a84aad98d4ce4e85": {
          "model_module": "@jupyter-widgets/base",
          "model_module_version": "1.2.0",
          "model_name": "LayoutModel",
          "state": {
            "_model_module": "@jupyter-widgets/base",
            "_model_module_version": "1.2.0",
            "_model_name": "LayoutModel",
            "_view_count": null,
            "_view_module": "@jupyter-widgets/base",
            "_view_module_version": "1.2.0",
            "_view_name": "LayoutView",
            "align_content": null,
            "align_items": null,
            "align_self": null,
            "border": null,
            "bottom": null,
            "display": null,
            "flex": null,
            "flex_flow": null,
            "grid_area": null,
            "grid_auto_columns": null,
            "grid_auto_flow": null,
            "grid_auto_rows": null,
            "grid_column": null,
            "grid_gap": null,
            "grid_row": null,
            "grid_template_areas": null,
            "grid_template_columns": null,
            "grid_template_rows": null,
            "height": null,
            "justify_content": null,
            "justify_items": null,
            "left": null,
            "margin": null,
            "max_height": null,
            "max_width": null,
            "min_height": null,
            "min_width": null,
            "object_fit": null,
            "object_position": null,
            "order": null,
            "overflow": null,
            "overflow_x": null,
            "overflow_y": null,
            "padding": null,
            "right": null,
            "top": null,
            "visibility": null,
            "width": null
          }
        },
        "b5b0711f60dc43debc4b4dcb5986bf65": {
          "model_module": "@jupyter-widgets/base",
          "model_module_version": "1.2.0",
          "model_name": "LayoutModel",
          "state": {
            "_model_module": "@jupyter-widgets/base",
            "_model_module_version": "1.2.0",
            "_model_name": "LayoutModel",
            "_view_count": null,
            "_view_module": "@jupyter-widgets/base",
            "_view_module_version": "1.2.0",
            "_view_name": "LayoutView",
            "align_content": null,
            "align_items": null,
            "align_self": null,
            "border": null,
            "bottom": null,
            "display": null,
            "flex": null,
            "flex_flow": null,
            "grid_area": null,
            "grid_auto_columns": null,
            "grid_auto_flow": null,
            "grid_auto_rows": null,
            "grid_column": null,
            "grid_gap": null,
            "grid_row": null,
            "grid_template_areas": null,
            "grid_template_columns": null,
            "grid_template_rows": null,
            "height": null,
            "justify_content": null,
            "justify_items": null,
            "left": null,
            "margin": null,
            "max_height": null,
            "max_width": null,
            "min_height": null,
            "min_width": null,
            "object_fit": null,
            "object_position": null,
            "order": null,
            "overflow": null,
            "overflow_x": null,
            "overflow_y": null,
            "padding": null,
            "right": null,
            "top": null,
            "visibility": null,
            "width": null
          }
        },
        "b8a6fecb93c043c4b29ff06bca1fc55f": {
          "model_module": "@jupyter-widgets/base",
          "model_module_version": "1.2.0",
          "model_name": "LayoutModel",
          "state": {
            "_model_module": "@jupyter-widgets/base",
            "_model_module_version": "1.2.0",
            "_model_name": "LayoutModel",
            "_view_count": null,
            "_view_module": "@jupyter-widgets/base",
            "_view_module_version": "1.2.0",
            "_view_name": "LayoutView",
            "align_content": null,
            "align_items": null,
            "align_self": null,
            "border": null,
            "bottom": null,
            "display": null,
            "flex": null,
            "flex_flow": null,
            "grid_area": null,
            "grid_auto_columns": null,
            "grid_auto_flow": null,
            "grid_auto_rows": null,
            "grid_column": null,
            "grid_gap": null,
            "grid_row": null,
            "grid_template_areas": null,
            "grid_template_columns": null,
            "grid_template_rows": null,
            "height": null,
            "justify_content": null,
            "justify_items": null,
            "left": null,
            "margin": null,
            "max_height": null,
            "max_width": null,
            "min_height": null,
            "min_width": null,
            "object_fit": null,
            "object_position": null,
            "order": null,
            "overflow": null,
            "overflow_x": null,
            "overflow_y": null,
            "padding": null,
            "right": null,
            "top": null,
            "visibility": null,
            "width": null
          }
        },
        "bb29c0ddc3c94b5d87765c3b94eb4579": {
          "model_module": "@jupyter-widgets/controls",
          "model_module_version": "1.5.0",
          "model_name": "ProgressStyleModel",
          "state": {
            "_model_module": "@jupyter-widgets/controls",
            "_model_module_version": "1.5.0",
            "_model_name": "ProgressStyleModel",
            "_view_count": null,
            "_view_module": "@jupyter-widgets/base",
            "_view_module_version": "1.2.0",
            "_view_name": "StyleView",
            "bar_color": null,
            "description_width": ""
          }
        },
        "bd0c770a662a441ba2ff1a0a8bd44b3c": {
          "model_module": "@jupyter-widgets/base",
          "model_module_version": "1.2.0",
          "model_name": "LayoutModel",
          "state": {
            "_model_module": "@jupyter-widgets/base",
            "_model_module_version": "1.2.0",
            "_model_name": "LayoutModel",
            "_view_count": null,
            "_view_module": "@jupyter-widgets/base",
            "_view_module_version": "1.2.0",
            "_view_name": "LayoutView",
            "align_content": null,
            "align_items": null,
            "align_self": null,
            "border": null,
            "bottom": null,
            "display": null,
            "flex": null,
            "flex_flow": null,
            "grid_area": null,
            "grid_auto_columns": null,
            "grid_auto_flow": null,
            "grid_auto_rows": null,
            "grid_column": null,
            "grid_gap": null,
            "grid_row": null,
            "grid_template_areas": null,
            "grid_template_columns": null,
            "grid_template_rows": null,
            "height": null,
            "justify_content": null,
            "justify_items": null,
            "left": null,
            "margin": null,
            "max_height": null,
            "max_width": null,
            "min_height": null,
            "min_width": null,
            "object_fit": null,
            "object_position": null,
            "order": null,
            "overflow": null,
            "overflow_x": null,
            "overflow_y": null,
            "padding": null,
            "right": null,
            "top": null,
            "visibility": null,
            "width": null
          }
        },
        "bd119e8eeb4742a6a7060cce73693899": {
          "model_module": "@jupyter-widgets/controls",
          "model_module_version": "1.5.0",
          "model_name": "HTMLModel",
          "state": {
            "_dom_classes": [],
            "_model_module": "@jupyter-widgets/controls",
            "_model_module_version": "1.5.0",
            "_model_name": "HTMLModel",
            "_view_count": null,
            "_view_module": "@jupyter-widgets/controls",
            "_view_module_version": "1.5.0",
            "_view_name": "HTMLView",
            "description": "",
            "description_tooltip": null,
            "layout": "IPY_MODEL_b5b0711f60dc43debc4b4dcb5986bf65",
            "placeholder": "​",
            "style": "IPY_MODEL_f8ec895349f9424f820d08c09531ed91",
            "value": " 200/200 [01:46&lt;00:00,  1.96it/s]"
          }
        },
        "c0c1fe28f8a14e9cae2ceede71b4f490": {
          "model_module": "@jupyter-widgets/controls",
          "model_module_version": "1.5.0",
          "model_name": "HBoxModel",
          "state": {
            "_dom_classes": [],
            "_model_module": "@jupyter-widgets/controls",
            "_model_module_version": "1.5.0",
            "_model_name": "HBoxModel",
            "_view_count": null,
            "_view_module": "@jupyter-widgets/controls",
            "_view_module_version": "1.5.0",
            "_view_name": "HBoxView",
            "box_style": "",
            "children": [
              "IPY_MODEL_c3497ccbfa124b51830eb41aff22d67c",
              "IPY_MODEL_2d379834f5a848c4a6fdf27a5e3f7b62",
              "IPY_MODEL_e10189c65b5c4b088da44137118dd475"
            ],
            "layout": "IPY_MODEL_899628c6358c45e090430693322ee2e5"
          }
        },
        "c1d728c029234c2cb9e7b91111059788": {
          "model_module": "@jupyter-widgets/controls",
          "model_module_version": "1.5.0",
          "model_name": "HTMLModel",
          "state": {
            "_dom_classes": [],
            "_model_module": "@jupyter-widgets/controls",
            "_model_module_version": "1.5.0",
            "_model_name": "HTMLModel",
            "_view_count": null,
            "_view_module": "@jupyter-widgets/controls",
            "_view_module_version": "1.5.0",
            "_view_name": "HTMLView",
            "description": "",
            "description_tooltip": null,
            "layout": "IPY_MODEL_b8a6fecb93c043c4b29ff06bca1fc55f",
            "placeholder": "​",
            "style": "IPY_MODEL_c73bd5db54274fea94bcb06aba9613b1",
            "value": "100%"
          }
        },
        "c3497ccbfa124b51830eb41aff22d67c": {
          "model_module": "@jupyter-widgets/controls",
          "model_module_version": "1.5.0",
          "model_name": "HTMLModel",
          "state": {
            "_dom_classes": [],
            "_model_module": "@jupyter-widgets/controls",
            "_model_module_version": "1.5.0",
            "_model_name": "HTMLModel",
            "_view_count": null,
            "_view_module": "@jupyter-widgets/controls",
            "_view_module_version": "1.5.0",
            "_view_name": "HTMLView",
            "description": "",
            "description_tooltip": null,
            "layout": "IPY_MODEL_1b789a68d2214ad0ab988a31d93a3ced",
            "placeholder": "​",
            "style": "IPY_MODEL_7dba4977f25d423591aed6c17308ecd4",
            "value": "100%"
          }
        },
        "c6c2abcdcd984c56b76308669bccc43f": {
          "model_module": "@jupyter-widgets/base",
          "model_module_version": "1.2.0",
          "model_name": "LayoutModel",
          "state": {
            "_model_module": "@jupyter-widgets/base",
            "_model_module_version": "1.2.0",
            "_model_name": "LayoutModel",
            "_view_count": null,
            "_view_module": "@jupyter-widgets/base",
            "_view_module_version": "1.2.0",
            "_view_name": "LayoutView",
            "align_content": null,
            "align_items": null,
            "align_self": null,
            "border": null,
            "bottom": null,
            "display": null,
            "flex": null,
            "flex_flow": null,
            "grid_area": null,
            "grid_auto_columns": null,
            "grid_auto_flow": null,
            "grid_auto_rows": null,
            "grid_column": null,
            "grid_gap": null,
            "grid_row": null,
            "grid_template_areas": null,
            "grid_template_columns": null,
            "grid_template_rows": null,
            "height": null,
            "justify_content": null,
            "justify_items": null,
            "left": null,
            "margin": null,
            "max_height": null,
            "max_width": null,
            "min_height": null,
            "min_width": null,
            "object_fit": null,
            "object_position": null,
            "order": null,
            "overflow": null,
            "overflow_x": null,
            "overflow_y": null,
            "padding": null,
            "right": null,
            "top": null,
            "visibility": null,
            "width": null
          }
        },
        "c73bd5db54274fea94bcb06aba9613b1": {
          "model_module": "@jupyter-widgets/controls",
          "model_module_version": "1.5.0",
          "model_name": "DescriptionStyleModel",
          "state": {
            "_model_module": "@jupyter-widgets/controls",
            "_model_module_version": "1.5.0",
            "_model_name": "DescriptionStyleModel",
            "_view_count": null,
            "_view_module": "@jupyter-widgets/base",
            "_view_module_version": "1.2.0",
            "_view_name": "StyleView",
            "description_width": ""
          }
        },
        "c7c481ef3bd445b8842463660f43efa6": {
          "model_module": "@jupyter-widgets/base",
          "model_module_version": "1.2.0",
          "model_name": "LayoutModel",
          "state": {
            "_model_module": "@jupyter-widgets/base",
            "_model_module_version": "1.2.0",
            "_model_name": "LayoutModel",
            "_view_count": null,
            "_view_module": "@jupyter-widgets/base",
            "_view_module_version": "1.2.0",
            "_view_name": "LayoutView",
            "align_content": null,
            "align_items": null,
            "align_self": null,
            "border": null,
            "bottom": null,
            "display": null,
            "flex": null,
            "flex_flow": null,
            "grid_area": null,
            "grid_auto_columns": null,
            "grid_auto_flow": null,
            "grid_auto_rows": null,
            "grid_column": null,
            "grid_gap": null,
            "grid_row": null,
            "grid_template_areas": null,
            "grid_template_columns": null,
            "grid_template_rows": null,
            "height": null,
            "justify_content": null,
            "justify_items": null,
            "left": null,
            "margin": null,
            "max_height": null,
            "max_width": null,
            "min_height": null,
            "min_width": null,
            "object_fit": null,
            "object_position": null,
            "order": null,
            "overflow": null,
            "overflow_x": null,
            "overflow_y": null,
            "padding": null,
            "right": null,
            "top": null,
            "visibility": null,
            "width": null
          }
        },
        "ca7cead7bfbf45d7962df0d077b75aec": {
          "model_module": "@jupyter-widgets/base",
          "model_module_version": "1.2.0",
          "model_name": "LayoutModel",
          "state": {
            "_model_module": "@jupyter-widgets/base",
            "_model_module_version": "1.2.0",
            "_model_name": "LayoutModel",
            "_view_count": null,
            "_view_module": "@jupyter-widgets/base",
            "_view_module_version": "1.2.0",
            "_view_name": "LayoutView",
            "align_content": null,
            "align_items": null,
            "align_self": null,
            "border": null,
            "bottom": null,
            "display": null,
            "flex": null,
            "flex_flow": null,
            "grid_area": null,
            "grid_auto_columns": null,
            "grid_auto_flow": null,
            "grid_auto_rows": null,
            "grid_column": null,
            "grid_gap": null,
            "grid_row": null,
            "grid_template_areas": null,
            "grid_template_columns": null,
            "grid_template_rows": null,
            "height": null,
            "justify_content": null,
            "justify_items": null,
            "left": null,
            "margin": null,
            "max_height": null,
            "max_width": null,
            "min_height": null,
            "min_width": null,
            "object_fit": null,
            "object_position": null,
            "order": null,
            "overflow": null,
            "overflow_x": null,
            "overflow_y": null,
            "padding": null,
            "right": null,
            "top": null,
            "visibility": null,
            "width": null
          }
        },
        "cc57658ad7dd4505a0e1fb039f5e21e7": {
          "model_module": "@jupyter-widgets/controls",
          "model_module_version": "1.5.0",
          "model_name": "DescriptionStyleModel",
          "state": {
            "_model_module": "@jupyter-widgets/controls",
            "_model_module_version": "1.5.0",
            "_model_name": "DescriptionStyleModel",
            "_view_count": null,
            "_view_module": "@jupyter-widgets/base",
            "_view_module_version": "1.2.0",
            "_view_name": "StyleView",
            "description_width": ""
          }
        },
        "cd18cf7545704d55bb61beb06aa5f4a8": {
          "model_module": "@jupyter-widgets/base",
          "model_module_version": "1.2.0",
          "model_name": "LayoutModel",
          "state": {
            "_model_module": "@jupyter-widgets/base",
            "_model_module_version": "1.2.0",
            "_model_name": "LayoutModel",
            "_view_count": null,
            "_view_module": "@jupyter-widgets/base",
            "_view_module_version": "1.2.0",
            "_view_name": "LayoutView",
            "align_content": null,
            "align_items": null,
            "align_self": null,
            "border": null,
            "bottom": null,
            "display": null,
            "flex": null,
            "flex_flow": null,
            "grid_area": null,
            "grid_auto_columns": null,
            "grid_auto_flow": null,
            "grid_auto_rows": null,
            "grid_column": null,
            "grid_gap": null,
            "grid_row": null,
            "grid_template_areas": null,
            "grid_template_columns": null,
            "grid_template_rows": null,
            "height": null,
            "justify_content": null,
            "justify_items": null,
            "left": null,
            "margin": null,
            "max_height": null,
            "max_width": null,
            "min_height": null,
            "min_width": null,
            "object_fit": null,
            "object_position": null,
            "order": null,
            "overflow": null,
            "overflow_x": null,
            "overflow_y": null,
            "padding": null,
            "right": null,
            "top": null,
            "visibility": null,
            "width": null
          }
        },
        "cdb474fd5c0e447b9bfeb8a535cf6293": {
          "model_module": "@jupyter-widgets/base",
          "model_module_version": "1.2.0",
          "model_name": "LayoutModel",
          "state": {
            "_model_module": "@jupyter-widgets/base",
            "_model_module_version": "1.2.0",
            "_model_name": "LayoutModel",
            "_view_count": null,
            "_view_module": "@jupyter-widgets/base",
            "_view_module_version": "1.2.0",
            "_view_name": "LayoutView",
            "align_content": null,
            "align_items": null,
            "align_self": null,
            "border": null,
            "bottom": null,
            "display": null,
            "flex": null,
            "flex_flow": null,
            "grid_area": null,
            "grid_auto_columns": null,
            "grid_auto_flow": null,
            "grid_auto_rows": null,
            "grid_column": null,
            "grid_gap": null,
            "grid_row": null,
            "grid_template_areas": null,
            "grid_template_columns": null,
            "grid_template_rows": null,
            "height": null,
            "justify_content": null,
            "justify_items": null,
            "left": null,
            "margin": null,
            "max_height": null,
            "max_width": null,
            "min_height": null,
            "min_width": null,
            "object_fit": null,
            "object_position": null,
            "order": null,
            "overflow": null,
            "overflow_x": null,
            "overflow_y": null,
            "padding": null,
            "right": null,
            "top": null,
            "visibility": null,
            "width": null
          }
        },
        "cf76a0ae906f41c0b1e5362206de0bad": {
          "model_module": "@jupyter-widgets/controls",
          "model_module_version": "1.5.0",
          "model_name": "ProgressStyleModel",
          "state": {
            "_model_module": "@jupyter-widgets/controls",
            "_model_module_version": "1.5.0",
            "_model_name": "ProgressStyleModel",
            "_view_count": null,
            "_view_module": "@jupyter-widgets/base",
            "_view_module_version": "1.2.0",
            "_view_name": "StyleView",
            "bar_color": null,
            "description_width": ""
          }
        },
        "d001b95496384b6abe9f026657e35f35": {
          "model_module": "@jupyter-widgets/controls",
          "model_module_version": "1.5.0",
          "model_name": "HTMLModel",
          "state": {
            "_dom_classes": [],
            "_model_module": "@jupyter-widgets/controls",
            "_model_module_version": "1.5.0",
            "_model_name": "HTMLModel",
            "_view_count": null,
            "_view_module": "@jupyter-widgets/controls",
            "_view_module_version": "1.5.0",
            "_view_name": "HTMLView",
            "description": "",
            "description_tooltip": null,
            "layout": "IPY_MODEL_c7c481ef3bd445b8842463660f43efa6",
            "placeholder": "​",
            "style": "IPY_MODEL_cc57658ad7dd4505a0e1fb039f5e21e7",
            "value": "100%"
          }
        },
        "d7ed2f03495a4e87841f372de44fc46d": {
          "model_module": "@jupyter-widgets/controls",
          "model_module_version": "1.5.0",
          "model_name": "ProgressStyleModel",
          "state": {
            "_model_module": "@jupyter-widgets/controls",
            "_model_module_version": "1.5.0",
            "_model_name": "ProgressStyleModel",
            "_view_count": null,
            "_view_module": "@jupyter-widgets/base",
            "_view_module_version": "1.2.0",
            "_view_name": "StyleView",
            "bar_color": null,
            "description_width": ""
          }
        },
        "d85374b0430d411a9f75b0d639b6241b": {
          "model_module": "@jupyter-widgets/controls",
          "model_module_version": "1.5.0",
          "model_name": "FloatProgressModel",
          "state": {
            "_dom_classes": [],
            "_model_module": "@jupyter-widgets/controls",
            "_model_module_version": "1.5.0",
            "_model_name": "FloatProgressModel",
            "_view_count": null,
            "_view_module": "@jupyter-widgets/controls",
            "_view_module_version": "1.5.0",
            "_view_name": "ProgressView",
            "bar_style": "success",
            "description": "",
            "description_tooltip": null,
            "layout": "IPY_MODEL_9b20b9e8a4fb437187ff2edb5deda0fe",
            "max": 200,
            "min": 0,
            "orientation": "horizontal",
            "style": "IPY_MODEL_6b9fb2e50aef4391919ae48b8ca29f36",
            "value": 200
          }
        },
        "dd2c0f49023646b08b2228f96b92a002": {
          "model_module": "@jupyter-widgets/controls",
          "model_module_version": "1.5.0",
          "model_name": "HTMLModel",
          "state": {
            "_dom_classes": [],
            "_model_module": "@jupyter-widgets/controls",
            "_model_module_version": "1.5.0",
            "_model_name": "HTMLModel",
            "_view_count": null,
            "_view_module": "@jupyter-widgets/controls",
            "_view_module_version": "1.5.0",
            "_view_name": "HTMLView",
            "description": "",
            "description_tooltip": null,
            "layout": "IPY_MODEL_33882e1a94904768aea6d14e3dde37cf",
            "placeholder": "​",
            "style": "IPY_MODEL_99f5f908c301419ab20174f7f239fdfa",
            "value": "100%"
          }
        },
        "dd3f9a63f7804ccdbe473f261b49366b": {
          "model_module": "@jupyter-widgets/controls",
          "model_module_version": "1.5.0",
          "model_name": "ProgressStyleModel",
          "state": {
            "_model_module": "@jupyter-widgets/controls",
            "_model_module_version": "1.5.0",
            "_model_name": "ProgressStyleModel",
            "_view_count": null,
            "_view_module": "@jupyter-widgets/base",
            "_view_module_version": "1.2.0",
            "_view_name": "StyleView",
            "bar_color": null,
            "description_width": ""
          }
        },
        "dd5d3fa3c2524ebc8a083f5ec3dddaad": {
          "model_module": "@jupyter-widgets/base",
          "model_module_version": "1.2.0",
          "model_name": "LayoutModel",
          "state": {
            "_model_module": "@jupyter-widgets/base",
            "_model_module_version": "1.2.0",
            "_model_name": "LayoutModel",
            "_view_count": null,
            "_view_module": "@jupyter-widgets/base",
            "_view_module_version": "1.2.0",
            "_view_name": "LayoutView",
            "align_content": null,
            "align_items": null,
            "align_self": null,
            "border": null,
            "bottom": null,
            "display": null,
            "flex": null,
            "flex_flow": null,
            "grid_area": null,
            "grid_auto_columns": null,
            "grid_auto_flow": null,
            "grid_auto_rows": null,
            "grid_column": null,
            "grid_gap": null,
            "grid_row": null,
            "grid_template_areas": null,
            "grid_template_columns": null,
            "grid_template_rows": null,
            "height": null,
            "justify_content": null,
            "justify_items": null,
            "left": null,
            "margin": null,
            "max_height": null,
            "max_width": null,
            "min_height": null,
            "min_width": null,
            "object_fit": null,
            "object_position": null,
            "order": null,
            "overflow": null,
            "overflow_x": null,
            "overflow_y": null,
            "padding": null,
            "right": null,
            "top": null,
            "visibility": null,
            "width": null
          }
        },
        "e10189c65b5c4b088da44137118dd475": {
          "model_module": "@jupyter-widgets/controls",
          "model_module_version": "1.5.0",
          "model_name": "HTMLModel",
          "state": {
            "_dom_classes": [],
            "_model_module": "@jupyter-widgets/controls",
            "_model_module_version": "1.5.0",
            "_model_name": "HTMLModel",
            "_view_count": null,
            "_view_module": "@jupyter-widgets/controls",
            "_view_module_version": "1.5.0",
            "_view_name": "HTMLView",
            "description": "",
            "description_tooltip": null,
            "layout": "IPY_MODEL_cd18cf7545704d55bb61beb06aa5f4a8",
            "placeholder": "​",
            "style": "IPY_MODEL_4712807ba97f4629bd939dbd0875058f",
            "value": " 15/15 [00:00&lt;00:00, 312.87it/s]"
          }
        },
        "e2a9696e795e439fbe3ddcedaa656ee1": {
          "model_module": "@jupyter-widgets/base",
          "model_module_version": "1.2.0",
          "model_name": "LayoutModel",
          "state": {
            "_model_module": "@jupyter-widgets/base",
            "_model_module_version": "1.2.0",
            "_model_name": "LayoutModel",
            "_view_count": null,
            "_view_module": "@jupyter-widgets/base",
            "_view_module_version": "1.2.0",
            "_view_name": "LayoutView",
            "align_content": null,
            "align_items": null,
            "align_self": null,
            "border": null,
            "bottom": null,
            "display": null,
            "flex": null,
            "flex_flow": null,
            "grid_area": null,
            "grid_auto_columns": null,
            "grid_auto_flow": null,
            "grid_auto_rows": null,
            "grid_column": null,
            "grid_gap": null,
            "grid_row": null,
            "grid_template_areas": null,
            "grid_template_columns": null,
            "grid_template_rows": null,
            "height": null,
            "justify_content": null,
            "justify_items": null,
            "left": null,
            "margin": null,
            "max_height": null,
            "max_width": null,
            "min_height": null,
            "min_width": null,
            "object_fit": null,
            "object_position": null,
            "order": null,
            "overflow": null,
            "overflow_x": null,
            "overflow_y": null,
            "padding": null,
            "right": null,
            "top": null,
            "visibility": null,
            "width": null
          }
        },
        "e3aa3d4f49f24964b7568e34bc667255": {
          "model_module": "@jupyter-widgets/base",
          "model_module_version": "1.2.0",
          "model_name": "LayoutModel",
          "state": {
            "_model_module": "@jupyter-widgets/base",
            "_model_module_version": "1.2.0",
            "_model_name": "LayoutModel",
            "_view_count": null,
            "_view_module": "@jupyter-widgets/base",
            "_view_module_version": "1.2.0",
            "_view_name": "LayoutView",
            "align_content": null,
            "align_items": null,
            "align_self": null,
            "border": null,
            "bottom": null,
            "display": null,
            "flex": null,
            "flex_flow": null,
            "grid_area": null,
            "grid_auto_columns": null,
            "grid_auto_flow": null,
            "grid_auto_rows": null,
            "grid_column": null,
            "grid_gap": null,
            "grid_row": null,
            "grid_template_areas": null,
            "grid_template_columns": null,
            "grid_template_rows": null,
            "height": null,
            "justify_content": null,
            "justify_items": null,
            "left": null,
            "margin": null,
            "max_height": null,
            "max_width": null,
            "min_height": null,
            "min_width": null,
            "object_fit": null,
            "object_position": null,
            "order": null,
            "overflow": null,
            "overflow_x": null,
            "overflow_y": null,
            "padding": null,
            "right": null,
            "top": null,
            "visibility": null,
            "width": null
          }
        },
        "e71fdc7d38bb4f9688fb0a38a4697df6": {
          "model_module": "@jupyter-widgets/controls",
          "model_module_version": "1.5.0",
          "model_name": "HTMLModel",
          "state": {
            "_dom_classes": [],
            "_model_module": "@jupyter-widgets/controls",
            "_model_module_version": "1.5.0",
            "_model_name": "HTMLModel",
            "_view_count": null,
            "_view_module": "@jupyter-widgets/controls",
            "_view_module_version": "1.5.0",
            "_view_name": "HTMLView",
            "description": "",
            "description_tooltip": null,
            "layout": "IPY_MODEL_0abb98d48e4a4b73bf3188d8820359b0",
            "placeholder": "​",
            "style": "IPY_MODEL_fb10dbd1ba0245e4a46e1246e3cc5e50",
            "value": "100%"
          }
        },
        "e8ed835f7e3b436184a99acb59d8344b": {
          "model_module": "@jupyter-widgets/controls",
          "model_module_version": "1.5.0",
          "model_name": "DescriptionStyleModel",
          "state": {
            "_model_module": "@jupyter-widgets/controls",
            "_model_module_version": "1.5.0",
            "_model_name": "DescriptionStyleModel",
            "_view_count": null,
            "_view_module": "@jupyter-widgets/base",
            "_view_module_version": "1.2.0",
            "_view_name": "StyleView",
            "description_width": ""
          }
        },
        "ee6f989f495444529fff499f98159d72": {
          "model_module": "@jupyter-widgets/controls",
          "model_module_version": "1.5.0",
          "model_name": "DescriptionStyleModel",
          "state": {
            "_model_module": "@jupyter-widgets/controls",
            "_model_module_version": "1.5.0",
            "_model_name": "DescriptionStyleModel",
            "_view_count": null,
            "_view_module": "@jupyter-widgets/base",
            "_view_module_version": "1.2.0",
            "_view_name": "StyleView",
            "description_width": ""
          }
        },
        "f0e2c5cee3c24d2bb029600d6de9dcd7": {
          "model_module": "@jupyter-widgets/controls",
          "model_module_version": "1.5.0",
          "model_name": "DescriptionStyleModel",
          "state": {
            "_model_module": "@jupyter-widgets/controls",
            "_model_module_version": "1.5.0",
            "_model_name": "DescriptionStyleModel",
            "_view_count": null,
            "_view_module": "@jupyter-widgets/base",
            "_view_module_version": "1.2.0",
            "_view_name": "StyleView",
            "description_width": ""
          }
        },
        "f1bb48cb51584d0f9023cfb9cf5a7087": {
          "model_module": "@jupyter-widgets/controls",
          "model_module_version": "1.5.0",
          "model_name": "ProgressStyleModel",
          "state": {
            "_model_module": "@jupyter-widgets/controls",
            "_model_module_version": "1.5.0",
            "_model_name": "ProgressStyleModel",
            "_view_count": null,
            "_view_module": "@jupyter-widgets/base",
            "_view_module_version": "1.2.0",
            "_view_name": "StyleView",
            "bar_color": null,
            "description_width": ""
          }
        },
        "f8ec895349f9424f820d08c09531ed91": {
          "model_module": "@jupyter-widgets/controls",
          "model_module_version": "1.5.0",
          "model_name": "DescriptionStyleModel",
          "state": {
            "_model_module": "@jupyter-widgets/controls",
            "_model_module_version": "1.5.0",
            "_model_name": "DescriptionStyleModel",
            "_view_count": null,
            "_view_module": "@jupyter-widgets/base",
            "_view_module_version": "1.2.0",
            "_view_name": "StyleView",
            "description_width": ""
          }
        },
        "fb10dbd1ba0245e4a46e1246e3cc5e50": {
          "model_module": "@jupyter-widgets/controls",
          "model_module_version": "1.5.0",
          "model_name": "DescriptionStyleModel",
          "state": {
            "_model_module": "@jupyter-widgets/controls",
            "_model_module_version": "1.5.0",
            "_model_name": "DescriptionStyleModel",
            "_view_count": null,
            "_view_module": "@jupyter-widgets/base",
            "_view_module_version": "1.2.0",
            "_view_name": "StyleView",
            "description_width": ""
          }
        },
        "fd874483e11b42adb5c9229c6447da92": {
          "model_module": "@jupyter-widgets/controls",
          "model_module_version": "1.5.0",
          "model_name": "DescriptionStyleModel",
          "state": {
            "_model_module": "@jupyter-widgets/controls",
            "_model_module_version": "1.5.0",
            "_model_name": "DescriptionStyleModel",
            "_view_count": null,
            "_view_module": "@jupyter-widgets/base",
            "_view_module_version": "1.2.0",
            "_view_name": "StyleView",
            "description_width": ""
          }
        },
        "fe94f00b55e94bbf98a540c7bb9891b7": {
          "model_module": "@jupyter-widgets/controls",
          "model_module_version": "1.5.0",
          "model_name": "HTMLModel",
          "state": {
            "_dom_classes": [],
            "_model_module": "@jupyter-widgets/controls",
            "_model_module_version": "1.5.0",
            "_model_name": "HTMLModel",
            "_view_count": null,
            "_view_module": "@jupyter-widgets/controls",
            "_view_module_version": "1.5.0",
            "_view_name": "HTMLView",
            "description": "",
            "description_tooltip": null,
            "layout": "IPY_MODEL_7e8bfd29d1b9451e91e0ea9052922c5c",
            "placeholder": "​",
            "style": "IPY_MODEL_93154939f693489c90db76128fa32038",
            "value": " 5788/5788 [01:37&lt;00:00, 37.06it/s]"
          }
        }
      }
    }
  },
  "nbformat": 4,
  "nbformat_minor": 5
}
